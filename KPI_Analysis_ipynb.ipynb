{
  "cells": [
    {
      "cell_type": "markdown",
      "source": [
        "# 1. Đọc dữ liệu"
      ],
      "metadata": {
        "id": "HNbYTPGlPawb"
      },
      "id": "HNbYTPGlPawb"
    },
    {
      "cell_type": "code",
      "execution_count": 116,
      "metadata": {
        "id": "63fd3857"
      },
      "outputs": [],
      "source": [
        "import numpy as np\n",
        "import pandas as pd\n",
        "import matplotlib.pyplot as plt\n",
        "df = pd.read_csv('https://raw.githubusercontent.com/nguyen-thi-hoai-linh/mkt/main/bank-additional-full.csv',delimiter=';')\n",
        "import seaborn as sns\n"
      ],
      "id": "63fd3857"
    },
    {
      "cell_type": "markdown",
      "source": [
        "# 2. Xử lý cơ bản dữ liệu: duplicate, null, info"
      ],
      "metadata": {
        "id": "48IJJuP7PicB"
      },
      "id": "48IJJuP7PicB"
    },
    {
      "cell_type": "code",
      "execution_count": 117,
      "metadata": {
        "colab": {
          "base_uri": "https://localhost:8080/"
        },
        "id": "75279d6c",
        "outputId": "33335b7a-b1ff-4527-e336-1bcecbf6730f"
      },
      "outputs": [
        {
          "output_type": "stream",
          "name": "stdout",
          "text": [
            "<class 'pandas.core.frame.DataFrame'>\n",
            "RangeIndex: 41188 entries, 0 to 41187\n",
            "Data columns (total 21 columns):\n",
            " #   Column          Non-Null Count  Dtype  \n",
            "---  ------          --------------  -----  \n",
            " 0   age             41188 non-null  int64  \n",
            " 1   job             41188 non-null  object \n",
            " 2   marital         41188 non-null  object \n",
            " 3   education       41188 non-null  object \n",
            " 4   default         41188 non-null  object \n",
            " 5   housing         41188 non-null  object \n",
            " 6   loan            41188 non-null  object \n",
            " 7   contact         41188 non-null  object \n",
            " 8   month           41188 non-null  object \n",
            " 9   day_of_week     41188 non-null  object \n",
            " 10  duration        41188 non-null  int64  \n",
            " 11  campaign        41188 non-null  int64  \n",
            " 12  pdays           41188 non-null  int64  \n",
            " 13  previous        41188 non-null  int64  \n",
            " 14  poutcome        41188 non-null  object \n",
            " 15  emp.var.rate    41188 non-null  float64\n",
            " 16  cons.price.idx  41188 non-null  float64\n",
            " 17  cons.conf.idx   41188 non-null  float64\n",
            " 18  euribor3m       41188 non-null  float64\n",
            " 19  nr.employed     41188 non-null  float64\n",
            " 20  y               41188 non-null  object \n",
            "dtypes: float64(5), int64(5), object(11)\n",
            "memory usage: 6.6+ MB\n"
          ]
        }
      ],
      "source": [
        "df.info()"
      ],
      "id": "75279d6c"
    },
    {
      "cell_type": "code",
      "execution_count": 118,
      "metadata": {
        "colab": {
          "base_uri": "https://localhost:8080/",
          "height": 270
        },
        "id": "e764687e",
        "outputId": "511f74aa-509b-4a78-d20b-10d6d811ead1"
      },
      "outputs": [
        {
          "output_type": "execute_result",
          "data": {
            "text/html": [
              "\n",
              "  <div id=\"df-a26e526b-e556-40e4-a7cb-953a56d91ade\">\n",
              "    <div class=\"colab-df-container\">\n",
              "      <div>\n",
              "<style scoped>\n",
              "    .dataframe tbody tr th:only-of-type {\n",
              "        vertical-align: middle;\n",
              "    }\n",
              "\n",
              "    .dataframe tbody tr th {\n",
              "        vertical-align: top;\n",
              "    }\n",
              "\n",
              "    .dataframe thead th {\n",
              "        text-align: right;\n",
              "    }\n",
              "</style>\n",
              "<table border=\"1\" class=\"dataframe\">\n",
              "  <thead>\n",
              "    <tr style=\"text-align: right;\">\n",
              "      <th></th>\n",
              "      <th>age</th>\n",
              "      <th>job</th>\n",
              "      <th>marital</th>\n",
              "      <th>education</th>\n",
              "      <th>default</th>\n",
              "      <th>housing</th>\n",
              "      <th>loan</th>\n",
              "      <th>contact</th>\n",
              "      <th>month</th>\n",
              "      <th>day_of_week</th>\n",
              "      <th>duration</th>\n",
              "      <th>campaign</th>\n",
              "      <th>pdays</th>\n",
              "      <th>previous</th>\n",
              "      <th>poutcome</th>\n",
              "      <th>emp.var.rate</th>\n",
              "      <th>cons.price.idx</th>\n",
              "      <th>cons.conf.idx</th>\n",
              "      <th>euribor3m</th>\n",
              "      <th>nr.employed</th>\n",
              "      <th>y</th>\n",
              "    </tr>\n",
              "  </thead>\n",
              "  <tbody>\n",
              "    <tr>\n",
              "      <th>0</th>\n",
              "      <td>56</td>\n",
              "      <td>housemaid</td>\n",
              "      <td>married</td>\n",
              "      <td>basic.4y</td>\n",
              "      <td>no</td>\n",
              "      <td>no</td>\n",
              "      <td>no</td>\n",
              "      <td>telephone</td>\n",
              "      <td>may</td>\n",
              "      <td>mon</td>\n",
              "      <td>261</td>\n",
              "      <td>1</td>\n",
              "      <td>999</td>\n",
              "      <td>0</td>\n",
              "      <td>nonexistent</td>\n",
              "      <td>1.1</td>\n",
              "      <td>93.994</td>\n",
              "      <td>-36.4</td>\n",
              "      <td>4.857</td>\n",
              "      <td>5191.0</td>\n",
              "      <td>no</td>\n",
              "    </tr>\n",
              "    <tr>\n",
              "      <th>1</th>\n",
              "      <td>57</td>\n",
              "      <td>services</td>\n",
              "      <td>married</td>\n",
              "      <td>high.school</td>\n",
              "      <td>unknown</td>\n",
              "      <td>no</td>\n",
              "      <td>no</td>\n",
              "      <td>telephone</td>\n",
              "      <td>may</td>\n",
              "      <td>mon</td>\n",
              "      <td>149</td>\n",
              "      <td>1</td>\n",
              "      <td>999</td>\n",
              "      <td>0</td>\n",
              "      <td>nonexistent</td>\n",
              "      <td>1.1</td>\n",
              "      <td>93.994</td>\n",
              "      <td>-36.4</td>\n",
              "      <td>4.857</td>\n",
              "      <td>5191.0</td>\n",
              "      <td>no</td>\n",
              "    </tr>\n",
              "    <tr>\n",
              "      <th>2</th>\n",
              "      <td>37</td>\n",
              "      <td>services</td>\n",
              "      <td>married</td>\n",
              "      <td>high.school</td>\n",
              "      <td>no</td>\n",
              "      <td>yes</td>\n",
              "      <td>no</td>\n",
              "      <td>telephone</td>\n",
              "      <td>may</td>\n",
              "      <td>mon</td>\n",
              "      <td>226</td>\n",
              "      <td>1</td>\n",
              "      <td>999</td>\n",
              "      <td>0</td>\n",
              "      <td>nonexistent</td>\n",
              "      <td>1.1</td>\n",
              "      <td>93.994</td>\n",
              "      <td>-36.4</td>\n",
              "      <td>4.857</td>\n",
              "      <td>5191.0</td>\n",
              "      <td>no</td>\n",
              "    </tr>\n",
              "    <tr>\n",
              "      <th>3</th>\n",
              "      <td>40</td>\n",
              "      <td>admin.</td>\n",
              "      <td>married</td>\n",
              "      <td>basic.6y</td>\n",
              "      <td>no</td>\n",
              "      <td>no</td>\n",
              "      <td>no</td>\n",
              "      <td>telephone</td>\n",
              "      <td>may</td>\n",
              "      <td>mon</td>\n",
              "      <td>151</td>\n",
              "      <td>1</td>\n",
              "      <td>999</td>\n",
              "      <td>0</td>\n",
              "      <td>nonexistent</td>\n",
              "      <td>1.1</td>\n",
              "      <td>93.994</td>\n",
              "      <td>-36.4</td>\n",
              "      <td>4.857</td>\n",
              "      <td>5191.0</td>\n",
              "      <td>no</td>\n",
              "    </tr>\n",
              "    <tr>\n",
              "      <th>4</th>\n",
              "      <td>56</td>\n",
              "      <td>services</td>\n",
              "      <td>married</td>\n",
              "      <td>high.school</td>\n",
              "      <td>no</td>\n",
              "      <td>no</td>\n",
              "      <td>yes</td>\n",
              "      <td>telephone</td>\n",
              "      <td>may</td>\n",
              "      <td>mon</td>\n",
              "      <td>307</td>\n",
              "      <td>1</td>\n",
              "      <td>999</td>\n",
              "      <td>0</td>\n",
              "      <td>nonexistent</td>\n",
              "      <td>1.1</td>\n",
              "      <td>93.994</td>\n",
              "      <td>-36.4</td>\n",
              "      <td>4.857</td>\n",
              "      <td>5191.0</td>\n",
              "      <td>no</td>\n",
              "    </tr>\n",
              "  </tbody>\n",
              "</table>\n",
              "</div>\n",
              "      <button class=\"colab-df-convert\" onclick=\"convertToInteractive('df-a26e526b-e556-40e4-a7cb-953a56d91ade')\"\n",
              "              title=\"Convert this dataframe to an interactive table.\"\n",
              "              style=\"display:none;\">\n",
              "        \n",
              "  <svg xmlns=\"http://www.w3.org/2000/svg\" height=\"24px\"viewBox=\"0 0 24 24\"\n",
              "       width=\"24px\">\n",
              "    <path d=\"M0 0h24v24H0V0z\" fill=\"none\"/>\n",
              "    <path d=\"M18.56 5.44l.94 2.06.94-2.06 2.06-.94-2.06-.94-.94-2.06-.94 2.06-2.06.94zm-11 1L8.5 8.5l.94-2.06 2.06-.94-2.06-.94L8.5 2.5l-.94 2.06-2.06.94zm10 10l.94 2.06.94-2.06 2.06-.94-2.06-.94-.94-2.06-.94 2.06-2.06.94z\"/><path d=\"M17.41 7.96l-1.37-1.37c-.4-.4-.92-.59-1.43-.59-.52 0-1.04.2-1.43.59L10.3 9.45l-7.72 7.72c-.78.78-.78 2.05 0 2.83L4 21.41c.39.39.9.59 1.41.59.51 0 1.02-.2 1.41-.59l7.78-7.78 2.81-2.81c.8-.78.8-2.07 0-2.86zM5.41 20L4 18.59l7.72-7.72 1.47 1.35L5.41 20z\"/>\n",
              "  </svg>\n",
              "      </button>\n",
              "      \n",
              "  <style>\n",
              "    .colab-df-container {\n",
              "      display:flex;\n",
              "      flex-wrap:wrap;\n",
              "      gap: 12px;\n",
              "    }\n",
              "\n",
              "    .colab-df-convert {\n",
              "      background-color: #E8F0FE;\n",
              "      border: none;\n",
              "      border-radius: 50%;\n",
              "      cursor: pointer;\n",
              "      display: none;\n",
              "      fill: #1967D2;\n",
              "      height: 32px;\n",
              "      padding: 0 0 0 0;\n",
              "      width: 32px;\n",
              "    }\n",
              "\n",
              "    .colab-df-convert:hover {\n",
              "      background-color: #E2EBFA;\n",
              "      box-shadow: 0px 1px 2px rgba(60, 64, 67, 0.3), 0px 1px 3px 1px rgba(60, 64, 67, 0.15);\n",
              "      fill: #174EA6;\n",
              "    }\n",
              "\n",
              "    [theme=dark] .colab-df-convert {\n",
              "      background-color: #3B4455;\n",
              "      fill: #D2E3FC;\n",
              "    }\n",
              "\n",
              "    [theme=dark] .colab-df-convert:hover {\n",
              "      background-color: #434B5C;\n",
              "      box-shadow: 0px 1px 3px 1px rgba(0, 0, 0, 0.15);\n",
              "      filter: drop-shadow(0px 1px 2px rgba(0, 0, 0, 0.3));\n",
              "      fill: #FFFFFF;\n",
              "    }\n",
              "  </style>\n",
              "\n",
              "      <script>\n",
              "        const buttonEl =\n",
              "          document.querySelector('#df-a26e526b-e556-40e4-a7cb-953a56d91ade button.colab-df-convert');\n",
              "        buttonEl.style.display =\n",
              "          google.colab.kernel.accessAllowed ? 'block' : 'none';\n",
              "\n",
              "        async function convertToInteractive(key) {\n",
              "          const element = document.querySelector('#df-a26e526b-e556-40e4-a7cb-953a56d91ade');\n",
              "          const dataTable =\n",
              "            await google.colab.kernel.invokeFunction('convertToInteractive',\n",
              "                                                     [key], {});\n",
              "          if (!dataTable) return;\n",
              "\n",
              "          const docLinkHtml = 'Like what you see? Visit the ' +\n",
              "            '<a target=\"_blank\" href=https://colab.research.google.com/notebooks/data_table.ipynb>data table notebook</a>'\n",
              "            + ' to learn more about interactive tables.';\n",
              "          element.innerHTML = '';\n",
              "          dataTable['output_type'] = 'display_data';\n",
              "          await google.colab.output.renderOutput(dataTable, element);\n",
              "          const docLink = document.createElement('div');\n",
              "          docLink.innerHTML = docLinkHtml;\n",
              "          element.appendChild(docLink);\n",
              "        }\n",
              "      </script>\n",
              "    </div>\n",
              "  </div>\n",
              "  "
            ],
            "text/plain": [
              "   age        job  marital  ... euribor3m nr.employed   y\n",
              "0   56  housemaid  married  ...     4.857      5191.0  no\n",
              "1   57   services  married  ...     4.857      5191.0  no\n",
              "2   37   services  married  ...     4.857      5191.0  no\n",
              "3   40     admin.  married  ...     4.857      5191.0  no\n",
              "4   56   services  married  ...     4.857      5191.0  no\n",
              "\n",
              "[5 rows x 21 columns]"
            ]
          },
          "metadata": {},
          "execution_count": 118
        }
      ],
      "source": [
        "df.head()"
      ],
      "id": "e764687e"
    },
    {
      "cell_type": "code",
      "execution_count": 119,
      "metadata": {
        "colab": {
          "base_uri": "https://localhost:8080/"
        },
        "id": "8eb87f7e",
        "outputId": "96ccd216-a89b-4cc7-f036-7aec68efd421"
      },
      "outputs": [
        {
          "output_type": "execute_result",
          "data": {
            "text/plain": [
              "0"
            ]
          },
          "metadata": {},
          "execution_count": 119
        }
      ],
      "source": [
        "df.isnull().sum().sum()"
      ],
      "id": "8eb87f7e"
    },
    {
      "cell_type": "code",
      "execution_count": 120,
      "metadata": {
        "colab": {
          "base_uri": "https://localhost:8080/"
        },
        "id": "135949c6",
        "outputId": "215a9f85-a592-4752-abb0-24396713fcd0"
      },
      "outputs": [
        {
          "output_type": "execute_result",
          "data": {
            "text/plain": [
              "(41188, 21)"
            ]
          },
          "metadata": {},
          "execution_count": 120
        }
      ],
      "source": [
        "df.shape"
      ],
      "id": "135949c6"
    },
    {
      "cell_type": "code",
      "execution_count": 121,
      "metadata": {
        "colab": {
          "base_uri": "https://localhost:8080/"
        },
        "id": "21ca436e",
        "outputId": "158a3ee7-70f5-43d1-e341-0c20ab17fc47"
      },
      "outputs": [
        {
          "output_type": "execute_result",
          "data": {
            "text/plain": [
              "(41176, 21)"
            ]
          },
          "metadata": {},
          "execution_count": 121
        }
      ],
      "source": [
        "####remove duplicated rows or columns\n",
        "df = df.drop_duplicates(keep='first')\n",
        "df = df.loc[:,~df.columns.duplicated()]\n",
        "df.shape"
      ],
      "id": "21ca436e"
    },
    {
      "cell_type": "code",
      "execution_count": 122,
      "metadata": {
        "colab": {
          "base_uri": "https://localhost:8080/"
        },
        "id": "9911445a",
        "outputId": "f43b9e71-2140-4af2-90da-5368c49431a0"
      },
      "outputs": [
        {
          "output_type": "stream",
          "name": "stdout",
          "text": [
            "number of categorical features: 11\n",
            "number of numeric features: 10\n"
          ]
        }
      ],
      "source": [
        "cat_feats = [col for col in df.columns\\\n",
        "             if df[col].dtypes=='object']\n",
        "num_feats = [col for col in df.columns\\\n",
        "            if df[col].dtypes!='object']\n",
        "print('number of categorical features:',len(cat_feats))\n",
        "print('number of numeric features:',len(num_feats))"
      ],
      "id": "9911445a"
    },
    {
      "cell_type": "code",
      "execution_count": 123,
      "metadata": {
        "id": "ee28fab2"
      },
      "outputs": [],
      "source": [
        "Cat_List = {}\n",
        "for cat in cat_feats:\n",
        "    Cat_List[cat] = df[cat].nunique()"
      ],
      "id": "ee28fab2"
    },
    {
      "cell_type": "code",
      "execution_count": 124,
      "metadata": {
        "colab": {
          "base_uri": "https://localhost:8080/"
        },
        "id": "f87f54e2",
        "outputId": "eb709481-bc6f-4e44-bc0e-6a3007f10219"
      },
      "outputs": [
        {
          "output_type": "execute_result",
          "data": {
            "text/plain": [
              "{'contact': 2,\n",
              " 'day_of_week': 5,\n",
              " 'default': 3,\n",
              " 'education': 8,\n",
              " 'housing': 3,\n",
              " 'job': 12,\n",
              " 'loan': 3,\n",
              " 'marital': 4,\n",
              " 'month': 10,\n",
              " 'poutcome': 3,\n",
              " 'y': 2}"
            ]
          },
          "metadata": {},
          "execution_count": 124
        }
      ],
      "source": [
        "Cat_List"
      ],
      "id": "f87f54e2"
    },
    {
      "cell_type": "code",
      "execution_count": 125,
      "metadata": {
        "colab": {
          "base_uri": "https://localhost:8080/"
        },
        "id": "eac63d7e",
        "outputId": "668617a2-3d64-4687-cb5a-19ece3d3faaa"
      },
      "outputs": [
        {
          "output_type": "execute_result",
          "data": {
            "text/plain": [
              "university.degree      0.295415\n",
              "high.school            0.231008\n",
              "basic.9y               0.146809\n",
              "professional.course    0.127259\n",
              "basic.4y               0.101418\n",
              "basic.6y               0.055639\n",
              "unknown                0.042015\n",
              "illiterate             0.000437\n",
              "Name: education, dtype: float64"
            ]
          },
          "metadata": {},
          "execution_count": 125
        }
      ],
      "source": [
        "df['education'].value_counts()/df.shape[0]"
      ],
      "id": "eac63d7e"
    },
    {
      "cell_type": "code",
      "execution_count": 126,
      "metadata": {
        "id": "a65c9ff2"
      },
      "outputs": [],
      "source": [
        "df = df.replace(to_replace =\"unknown\",value = np.nan)"
      ],
      "id": "a65c9ff2"
    },
    {
      "cell_type": "code",
      "execution_count": 127,
      "metadata": {
        "id": "17ba9f43"
      },
      "outputs": [],
      "source": [
        "null_df = df.isnull().sum().reset_index()\n",
        "null_df.columns = ['Features','Nbr_Null']\n",
        "null_df['Pct_Null'] = round(100*null_df['Nbr_Null']/df.shape[0],2)"
      ],
      "id": "17ba9f43"
    },
    {
      "cell_type": "code",
      "execution_count": 128,
      "metadata": {
        "colab": {
          "base_uri": "https://localhost:8080/",
          "height": 708
        },
        "id": "9be84b8a",
        "outputId": "960a6b5c-2ed3-4e6f-e27e-709683ab2991"
      },
      "outputs": [
        {
          "output_type": "execute_result",
          "data": {
            "text/html": [
              "\n",
              "  <div id=\"df-74c2126b-6ef1-4a08-b878-776199755c90\">\n",
              "    <div class=\"colab-df-container\">\n",
              "      <div>\n",
              "<style scoped>\n",
              "    .dataframe tbody tr th:only-of-type {\n",
              "        vertical-align: middle;\n",
              "    }\n",
              "\n",
              "    .dataframe tbody tr th {\n",
              "        vertical-align: top;\n",
              "    }\n",
              "\n",
              "    .dataframe thead th {\n",
              "        text-align: right;\n",
              "    }\n",
              "</style>\n",
              "<table border=\"1\" class=\"dataframe\">\n",
              "  <thead>\n",
              "    <tr style=\"text-align: right;\">\n",
              "      <th></th>\n",
              "      <th>Features</th>\n",
              "      <th>Nbr_Null</th>\n",
              "      <th>Pct_Null</th>\n",
              "    </tr>\n",
              "  </thead>\n",
              "  <tbody>\n",
              "    <tr>\n",
              "      <th>0</th>\n",
              "      <td>age</td>\n",
              "      <td>0</td>\n",
              "      <td>0.00</td>\n",
              "    </tr>\n",
              "    <tr>\n",
              "      <th>1</th>\n",
              "      <td>job</td>\n",
              "      <td>330</td>\n",
              "      <td>0.80</td>\n",
              "    </tr>\n",
              "    <tr>\n",
              "      <th>2</th>\n",
              "      <td>marital</td>\n",
              "      <td>80</td>\n",
              "      <td>0.19</td>\n",
              "    </tr>\n",
              "    <tr>\n",
              "      <th>3</th>\n",
              "      <td>education</td>\n",
              "      <td>1730</td>\n",
              "      <td>4.20</td>\n",
              "    </tr>\n",
              "    <tr>\n",
              "      <th>4</th>\n",
              "      <td>default</td>\n",
              "      <td>8596</td>\n",
              "      <td>20.88</td>\n",
              "    </tr>\n",
              "    <tr>\n",
              "      <th>5</th>\n",
              "      <td>housing</td>\n",
              "      <td>990</td>\n",
              "      <td>2.40</td>\n",
              "    </tr>\n",
              "    <tr>\n",
              "      <th>6</th>\n",
              "      <td>loan</td>\n",
              "      <td>990</td>\n",
              "      <td>2.40</td>\n",
              "    </tr>\n",
              "    <tr>\n",
              "      <th>7</th>\n",
              "      <td>contact</td>\n",
              "      <td>0</td>\n",
              "      <td>0.00</td>\n",
              "    </tr>\n",
              "    <tr>\n",
              "      <th>8</th>\n",
              "      <td>month</td>\n",
              "      <td>0</td>\n",
              "      <td>0.00</td>\n",
              "    </tr>\n",
              "    <tr>\n",
              "      <th>9</th>\n",
              "      <td>day_of_week</td>\n",
              "      <td>0</td>\n",
              "      <td>0.00</td>\n",
              "    </tr>\n",
              "    <tr>\n",
              "      <th>10</th>\n",
              "      <td>duration</td>\n",
              "      <td>0</td>\n",
              "      <td>0.00</td>\n",
              "    </tr>\n",
              "    <tr>\n",
              "      <th>11</th>\n",
              "      <td>campaign</td>\n",
              "      <td>0</td>\n",
              "      <td>0.00</td>\n",
              "    </tr>\n",
              "    <tr>\n",
              "      <th>12</th>\n",
              "      <td>pdays</td>\n",
              "      <td>0</td>\n",
              "      <td>0.00</td>\n",
              "    </tr>\n",
              "    <tr>\n",
              "      <th>13</th>\n",
              "      <td>previous</td>\n",
              "      <td>0</td>\n",
              "      <td>0.00</td>\n",
              "    </tr>\n",
              "    <tr>\n",
              "      <th>14</th>\n",
              "      <td>poutcome</td>\n",
              "      <td>0</td>\n",
              "      <td>0.00</td>\n",
              "    </tr>\n",
              "    <tr>\n",
              "      <th>15</th>\n",
              "      <td>emp.var.rate</td>\n",
              "      <td>0</td>\n",
              "      <td>0.00</td>\n",
              "    </tr>\n",
              "    <tr>\n",
              "      <th>16</th>\n",
              "      <td>cons.price.idx</td>\n",
              "      <td>0</td>\n",
              "      <td>0.00</td>\n",
              "    </tr>\n",
              "    <tr>\n",
              "      <th>17</th>\n",
              "      <td>cons.conf.idx</td>\n",
              "      <td>0</td>\n",
              "      <td>0.00</td>\n",
              "    </tr>\n",
              "    <tr>\n",
              "      <th>18</th>\n",
              "      <td>euribor3m</td>\n",
              "      <td>0</td>\n",
              "      <td>0.00</td>\n",
              "    </tr>\n",
              "    <tr>\n",
              "      <th>19</th>\n",
              "      <td>nr.employed</td>\n",
              "      <td>0</td>\n",
              "      <td>0.00</td>\n",
              "    </tr>\n",
              "    <tr>\n",
              "      <th>20</th>\n",
              "      <td>y</td>\n",
              "      <td>0</td>\n",
              "      <td>0.00</td>\n",
              "    </tr>\n",
              "  </tbody>\n",
              "</table>\n",
              "</div>\n",
              "      <button class=\"colab-df-convert\" onclick=\"convertToInteractive('df-74c2126b-6ef1-4a08-b878-776199755c90')\"\n",
              "              title=\"Convert this dataframe to an interactive table.\"\n",
              "              style=\"display:none;\">\n",
              "        \n",
              "  <svg xmlns=\"http://www.w3.org/2000/svg\" height=\"24px\"viewBox=\"0 0 24 24\"\n",
              "       width=\"24px\">\n",
              "    <path d=\"M0 0h24v24H0V0z\" fill=\"none\"/>\n",
              "    <path d=\"M18.56 5.44l.94 2.06.94-2.06 2.06-.94-2.06-.94-.94-2.06-.94 2.06-2.06.94zm-11 1L8.5 8.5l.94-2.06 2.06-.94-2.06-.94L8.5 2.5l-.94 2.06-2.06.94zm10 10l.94 2.06.94-2.06 2.06-.94-2.06-.94-.94-2.06-.94 2.06-2.06.94z\"/><path d=\"M17.41 7.96l-1.37-1.37c-.4-.4-.92-.59-1.43-.59-.52 0-1.04.2-1.43.59L10.3 9.45l-7.72 7.72c-.78.78-.78 2.05 0 2.83L4 21.41c.39.39.9.59 1.41.59.51 0 1.02-.2 1.41-.59l7.78-7.78 2.81-2.81c.8-.78.8-2.07 0-2.86zM5.41 20L4 18.59l7.72-7.72 1.47 1.35L5.41 20z\"/>\n",
              "  </svg>\n",
              "      </button>\n",
              "      \n",
              "  <style>\n",
              "    .colab-df-container {\n",
              "      display:flex;\n",
              "      flex-wrap:wrap;\n",
              "      gap: 12px;\n",
              "    }\n",
              "\n",
              "    .colab-df-convert {\n",
              "      background-color: #E8F0FE;\n",
              "      border: none;\n",
              "      border-radius: 50%;\n",
              "      cursor: pointer;\n",
              "      display: none;\n",
              "      fill: #1967D2;\n",
              "      height: 32px;\n",
              "      padding: 0 0 0 0;\n",
              "      width: 32px;\n",
              "    }\n",
              "\n",
              "    .colab-df-convert:hover {\n",
              "      background-color: #E2EBFA;\n",
              "      box-shadow: 0px 1px 2px rgba(60, 64, 67, 0.3), 0px 1px 3px 1px rgba(60, 64, 67, 0.15);\n",
              "      fill: #174EA6;\n",
              "    }\n",
              "\n",
              "    [theme=dark] .colab-df-convert {\n",
              "      background-color: #3B4455;\n",
              "      fill: #D2E3FC;\n",
              "    }\n",
              "\n",
              "    [theme=dark] .colab-df-convert:hover {\n",
              "      background-color: #434B5C;\n",
              "      box-shadow: 0px 1px 3px 1px rgba(0, 0, 0, 0.15);\n",
              "      filter: drop-shadow(0px 1px 2px rgba(0, 0, 0, 0.3));\n",
              "      fill: #FFFFFF;\n",
              "    }\n",
              "  </style>\n",
              "\n",
              "      <script>\n",
              "        const buttonEl =\n",
              "          document.querySelector('#df-74c2126b-6ef1-4a08-b878-776199755c90 button.colab-df-convert');\n",
              "        buttonEl.style.display =\n",
              "          google.colab.kernel.accessAllowed ? 'block' : 'none';\n",
              "\n",
              "        async function convertToInteractive(key) {\n",
              "          const element = document.querySelector('#df-74c2126b-6ef1-4a08-b878-776199755c90');\n",
              "          const dataTable =\n",
              "            await google.colab.kernel.invokeFunction('convertToInteractive',\n",
              "                                                     [key], {});\n",
              "          if (!dataTable) return;\n",
              "\n",
              "          const docLinkHtml = 'Like what you see? Visit the ' +\n",
              "            '<a target=\"_blank\" href=https://colab.research.google.com/notebooks/data_table.ipynb>data table notebook</a>'\n",
              "            + ' to learn more about interactive tables.';\n",
              "          element.innerHTML = '';\n",
              "          dataTable['output_type'] = 'display_data';\n",
              "          await google.colab.output.renderOutput(dataTable, element);\n",
              "          const docLink = document.createElement('div');\n",
              "          docLink.innerHTML = docLinkHtml;\n",
              "          element.appendChild(docLink);\n",
              "        }\n",
              "      </script>\n",
              "    </div>\n",
              "  </div>\n",
              "  "
            ],
            "text/plain": [
              "          Features  Nbr_Null  Pct_Null\n",
              "0              age         0      0.00\n",
              "1              job       330      0.80\n",
              "2          marital        80      0.19\n",
              "3        education      1730      4.20\n",
              "4          default      8596     20.88\n",
              "5          housing       990      2.40\n",
              "6             loan       990      2.40\n",
              "7          contact         0      0.00\n",
              "8            month         0      0.00\n",
              "9      day_of_week         0      0.00\n",
              "10        duration         0      0.00\n",
              "11        campaign         0      0.00\n",
              "12           pdays         0      0.00\n",
              "13        previous         0      0.00\n",
              "14        poutcome         0      0.00\n",
              "15    emp.var.rate         0      0.00\n",
              "16  cons.price.idx         0      0.00\n",
              "17   cons.conf.idx         0      0.00\n",
              "18       euribor3m         0      0.00\n",
              "19     nr.employed         0      0.00\n",
              "20               y         0      0.00"
            ]
          },
          "metadata": {},
          "execution_count": 128
        }
      ],
      "source": [
        "null_df"
      ],
      "id": "9be84b8a"
    },
    {
      "cell_type": "code",
      "execution_count": 128,
      "metadata": {
        "id": "5dNechAqX79_"
      },
      "outputs": [],
      "source": [
        ""
      ],
      "id": "5dNechAqX79_"
    },
    {
      "cell_type": "code",
      "source": [
        "#số người tham gia chiến dịch\n",
        "df.shape"
      ],
      "metadata": {
        "colab": {
          "base_uri": "https://localhost:8080/"
        },
        "id": "XgQLVcknJcH9",
        "outputId": "0c805213-aa10-48ce-b1ad-8cff1c91b813"
      },
      "id": "XgQLVcknJcH9",
      "execution_count": 129,
      "outputs": [
        {
          "output_type": "execute_result",
          "data": {
            "text/plain": [
              "(41176, 21)"
            ]
          },
          "metadata": {},
          "execution_count": 129
        }
      ]
    },
    {
      "cell_type": "code",
      "execution_count": 130,
      "metadata": {
        "id": "DV5T_KulYF3x",
        "colab": {
          "base_uri": "https://localhost:8080/"
        },
        "outputId": "924cf5cb-d08f-401e-8eef-9fd5ac405f4f"
      },
      "outputs": [
        {
          "output_type": "execute_result",
          "data": {
            "text/plain": [
              "4639"
            ]
          },
          "metadata": {},
          "execution_count": 130
        }
      ],
      "source": [
        "#số lượng khách đồng ý mở tài khoản\n",
        "df['y'].apply(lambda x: 1 if x=='yes' else 0).sum()\n"
      ],
      "id": "DV5T_KulYF3x"
    },
    {
      "cell_type": "code",
      "source": [
        "# Số lượng khách hàng đồng ý trên ngày\n",
        "df[df['y']=='yes']['day_of_week'].value_counts()"
      ],
      "metadata": {
        "id": "mY_MDPrSWFDg",
        "colab": {
          "base_uri": "https://localhost:8080/"
        },
        "outputId": "f9fc80c0-764d-4ccf-8b9a-a815bd3c3640"
      },
      "id": "mY_MDPrSWFDg",
      "execution_count": 131,
      "outputs": [
        {
          "output_type": "execute_result",
          "data": {
            "text/plain": [
              "thu    1044\n",
              "tue     953\n",
              "wed     949\n",
              "mon     847\n",
              "fri     846\n",
              "Name: day_of_week, dtype: int64"
            ]
          },
          "metadata": {},
          "execution_count": 131
        }
      ]
    },
    {
      "cell_type": "markdown",
      "metadata": {
        "id": "657b69c8"
      },
      "source": [
        "# Calculate Conversion Rate"
      ],
      "id": "657b69c8"
    },
    {
      "cell_type": "code",
      "execution_count": 132,
      "metadata": {
        "id": "2ec2e6fc",
        "colab": {
          "base_uri": "https://localhost:8080/"
        },
        "outputId": "70364a63-4bd2-498d-dc08-a32be31602b5"
      },
      "outputs": [
        {
          "output_type": "stream",
          "name": "stdout",
          "text": [
            "total conversions: 4639 out of 41176\n",
            "conversion rate: 11.27%\n"
          ]
        }
      ],
      "source": [
        "###encoder output variable\n",
        "df['conversion'] = df['y']\\\n",
        ".apply(lambda x: 1 if x=='yes' else 0)\n",
        "print('total conversions: {0} out of {1}'.format(df.conversion.sum(),df.shape[0]))\n",
        "print('conversion rate: {:.2%}'.format((df.conversion.sum() / df.shape[0])))"
      ],
      "id": "2ec2e6fc"
    },
    {
      "cell_type": "markdown",
      "source": [
        "nhìn chung tỷ lệ những người đồng ý mở tài khoản rất ít"
      ],
      "metadata": {
        "id": "sMnpYjul3FRF"
      },
      "id": "sMnpYjul3FRF"
    },
    {
      "cell_type": "markdown",
      "source": [
        "# **Insight**"
      ],
      "metadata": {
        "id": "yorvXyPo7cbu"
      },
      "id": "yorvXyPo7cbu"
    },
    {
      "cell_type": "markdown",
      "metadata": {
        "id": "5d03bb13"
      },
      "source": [
        "# Conversion rates by age"
      ],
      "id": "5d03bb13"
    },
    {
      "cell_type": "code",
      "source": [
        "import matplotlib.pyplot as plt\n",
        "import seaborn as sns\n",
        "plt.style.use('seaborn')\n",
        "\n",
        "sns.distplot(df['age'],bins = 80, hist = True)\n",
        "plt.title(\"Histogram of age\") \n",
        "plt.show()"
      ],
      "metadata": {
        "colab": {
          "base_uri": "https://localhost:8080/",
          "height": 466
        },
        "id": "cnDJu9cFRf-0",
        "outputId": "d7ce1f2f-c7ac-430c-a0d1-0d7404f7c11a"
      },
      "id": "cnDJu9cFRf-0",
      "execution_count": 133,
      "outputs": [
        {
          "output_type": "stream",
          "name": "stderr",
          "text": [
            "/usr/local/lib/python3.7/dist-packages/seaborn/distributions.py:2619: FutureWarning:\n",
            "\n",
            "`distplot` is a deprecated function and will be removed in a future version. Please adapt your code to use either `displot` (a figure-level function with similar flexibility) or `histplot` (an axes-level function for histograms).\n",
            "\n"
          ]
        },
        {
          "output_type": "display_data",
          "data": {
            "image/png": "[encoded data removed]",
            "text/plain": [
              "<Figure size 576x396 with 1 Axes>"
            ]
          },
          "metadata": {}
        }
      ]
    },
    {
      "cell_type": "code",
      "execution_count": 134,
      "metadata": {
        "id": "66e8c19b"
      },
      "outputs": [],
      "source": [
        "conversions_by_age = df.groupby('age')['conversion'].sum()\n",
        "nbr_customers_by_age = df.groupby('age')['conversion'].count()\n",
        "conversion_rate_by_age = conversions_by_age/nbr_customers_by_age*100"
      ],
      "id": "66e8c19b"
    },
    {
      "cell_type": "code",
      "execution_count": 135,
      "metadata": {
        "id": "27f31220",
        "colab": {
          "base_uri": "https://localhost:8080/"
        },
        "outputId": "6f0062e1-f7a5-4ca8-e668-fd7157ad7e66"
      },
      "outputs": [
        {
          "output_type": "execute_result",
          "data": {
            "text/plain": [
              "age\n",
              "17     40.000000\n",
              "18     42.857143\n",
              "19     47.619048\n",
              "20     35.384615\n",
              "21     28.431373\n",
              "         ...    \n",
              "91      0.000000\n",
              "92     75.000000\n",
              "94      0.000000\n",
              "95      0.000000\n",
              "98    100.000000\n",
              "Name: conversion, Length: 78, dtype: float64"
            ]
          },
          "metadata": {},
          "execution_count": 135
        }
      ],
      "source": [
        "conversion_rate_by_age"
      ],
      "id": "27f31220"
    },
    {
      "cell_type": "code",
      "execution_count": 136,
      "metadata": {
        "id": "0df72a7e"
      },
      "outputs": [],
      "source": [
        "df['age_range'] = df['age'].apply(lambda x: '[18-]' if x<18 else\\\n",
        "                                 '[18,24]' if (x<=24) else\\\n",
        "                                 '[25,40]' if (x<=40) else\\\n",
        "                                 '[41,60]' if (x<=60) else '60+'\n",
        "                                 )"
      ],
      "id": "0df72a7e"
    },
    {
      "cell_type": "code",
      "execution_count": 137,
      "metadata": {
        "id": "89e83837",
        "colab": {
          "base_uri": "https://localhost:8080/"
        },
        "outputId": "8c9e2d51-f8b2-4325-f180-d29488d4d632"
      },
      "outputs": [
        {
          "output_type": "execute_result",
          "data": {
            "text/plain": [
              "[25,40]    22694\n",
              "[41,60]    16506\n",
              "[18,24]     1062\n",
              "60+          909\n",
              "[18-]          5\n",
              "Name: age_range, dtype: int64"
            ]
          },
          "metadata": {},
          "execution_count": 137
        }
      ],
      "source": [
        "df['age_range'].value_counts()"
      ],
      "id": "89e83837"
    },
    {
      "cell_type": "code",
      "execution_count": 138,
      "metadata": {
        "id": "e3b0f8ed"
      },
      "outputs": [],
      "source": [
        "conversions_by_age = df.groupby('age_range')['conversion'].sum()\n",
        "nbr_customers_by_age = df.groupby('age_range')['conversion'].count()\n",
        "conversion_rate_by_age = conversions_by_age/nbr_customers_by_age*100"
      ],
      "id": "e3b0f8ed"
    },
    {
      "cell_type": "code",
      "execution_count": 139,
      "metadata": {
        "id": "016deeb9",
        "colab": {
          "base_uri": "https://localhost:8080/"
        },
        "outputId": "803831f0-74de-4e0c-fcd6-4be47d5e03cb"
      },
      "outputs": [
        {
          "output_type": "execute_result",
          "data": {
            "text/plain": [
              "age_range\n",
              "60+        45.544554\n",
              "[18,24]    23.917137\n",
              "[18-]      40.000000\n",
              "[25,40]    10.861902\n",
              "[41,60]     9.111838\n",
              "Name: conversion, dtype: float64"
            ]
          },
          "metadata": {},
          "execution_count": 139
        }
      ],
      "source": [
        "conversion_rate_by_age"
      ],
      "id": "016deeb9"
    },
    {
      "cell_type": "code",
      "execution_count": 140,
      "metadata": {
        "id": "cf62d295",
        "colab": {
          "base_uri": "https://localhost:8080/",
          "height": 370
        },
        "outputId": "bc5756f8-02e4-4fe8-bb88-41c46fd74289"
      },
      "outputs": [
        {
          "output_type": "display_data",
          "data": {
            "image/png": "[encoded data removed]",
            "text/plain": [
              "<Figure size 504x360 with 1 Axes>"
            ]
          },
          "metadata": {}
        }
      ],
      "source": [
        "fig, ax = plt.subplots(figsize=(10,4))\n",
        "conversion_rate_by_age.loc[['[18,24]','[25,40]','[41,60]','60+']].\\\n",
        "plot(kind='bar',figsize=[7,5])\n",
        "ax.set_title('Conversion Rates by Age Range')\n",
        "ax.set_xlabel('age')\n",
        "ax.set_ylabel('conversion rate (%)')\n",
        "plt.show()"
      ],
      "id": "cf62d295"
    },
    {
      "cell_type": "code",
      "execution_count": 141,
      "metadata": {
        "id": "wAbPs__OwwE-",
        "colab": {
          "base_uri": "https://localhost:8080/",
          "height": 317
        },
        "outputId": "214f2f22-7a96-46ae-d647-6937deceb9d5"
      },
      "outputs": [
        {
          "output_type": "display_data",
          "data": {
            "image/png": "[encoded data removed]",
            "text/plain": [
              "<Figure size 1080x576 with 1 Axes>"
            ]
          },
          "metadata": {
            "needs_background": "light"
          }
        }
      ],
      "source": [
        "from matplotlib.gridspec import GridSpec\n",
        "\n",
        "fig=plt.figure(figsize=(15,8), facecolor=(0.2,0.0,0.0,0.0), edgecolor='black')\n",
        "plt.suptitle(\"Compare the conversion by Age\", family='Serif', size=15,weight='bold')\n",
        "\n",
        "plt.figtext(0.5,0.93,\"Histogram and boxplot to identify the mid value of Age by conversion\", family='Serif', size=12, ha='center')\n",
        "gs = GridSpec(nrows=2, ncols=4, figure=fig)\n",
        "ax1=plt.subplot(gs[0,:3])\n",
        "\n",
        "\n",
        "sns.histplot(data=df, x='age', bins=10, ax=ax1, kde=True, hue='y', multiple='layer', element='bars', palette=['#68f2d7','#ed0000']);\n"
      ],
      "id": "wAbPs__OwwE-"
    },
    {
      "cell_type": "markdown",
      "source": [
        "có thể thấy tỷ lệ chuyển đổi của nhóm người từ 18-24 tuổi và trên 60 tuổi khá cao. Tuy nhiên số lượng khách hàng thuộc 2 nhóm trên không nhiều so với nhóm tuổi từ 18-24 và trên 60\n",
        "=> cần xây dựng chiến dịch quảng cáo phù hợp để thu hút khách hàng trong 2 nhóm tuổi này \n",
        "\n"
      ],
      "metadata": {
        "id": "6X7TagRzcRnF"
      },
      "id": "6X7TagRzcRnF"
    },
    {
      "cell_type": "markdown",
      "metadata": {
        "id": "881fd712"
      },
      "source": [
        "# Conversion versus non-conversions"
      ],
      "id": "881fd712"
    },
    {
      "cell_type": "code",
      "execution_count": 142,
      "metadata": {
        "id": "d41a9da9"
      },
      "outputs": [],
      "source": [
        "conversion_by_maritalstatus = pd.pivot_table(df,values='y',index='marital'\\\n",
        "               ,columns='conversion',aggfunc=len)"
      ],
      "id": "d41a9da9"
    },
    {
      "cell_type": "code",
      "execution_count": 143,
      "metadata": {
        "id": "5ff3a254",
        "colab": {
          "base_uri": "https://localhost:8080/",
          "height": 174
        },
        "outputId": "99a7be2c-15a1-41ff-bb65-792133b846f4"
      },
      "outputs": [
        {
          "output_type": "execute_result",
          "data": {
            "text/html": [
              "\n",
              "  <div id=\"df-79747034-b50b-432d-8b0b-d26d6bc3e67f\">\n",
              "    <div class=\"colab-df-container\">\n",
              "      <div>\n",
              "<style scoped>\n",
              "    .dataframe tbody tr th:only-of-type {\n",
              "        vertical-align: middle;\n",
              "    }\n",
              "\n",
              "    .dataframe tbody tr th {\n",
              "        vertical-align: top;\n",
              "    }\n",
              "\n",
              "    .dataframe thead th {\n",
              "        text-align: right;\n",
              "    }\n",
              "</style>\n",
              "<table border=\"1\" class=\"dataframe\">\n",
              "  <thead>\n",
              "    <tr style=\"text-align: right;\">\n",
              "      <th>conversion</th>\n",
              "      <th>0</th>\n",
              "      <th>1</th>\n",
              "    </tr>\n",
              "    <tr>\n",
              "      <th>marital</th>\n",
              "      <th></th>\n",
              "      <th></th>\n",
              "    </tr>\n",
              "  </thead>\n",
              "  <tbody>\n",
              "    <tr>\n",
              "      <th>divorced</th>\n",
              "      <td>4135</td>\n",
              "      <td>476</td>\n",
              "    </tr>\n",
              "    <tr>\n",
              "      <th>married</th>\n",
              "      <td>22390</td>\n",
              "      <td>2531</td>\n",
              "    </tr>\n",
              "    <tr>\n",
              "      <th>single</th>\n",
              "      <td>9944</td>\n",
              "      <td>1620</td>\n",
              "    </tr>\n",
              "  </tbody>\n",
              "</table>\n",
              "</div>\n",
              "      <button class=\"colab-df-convert\" onclick=\"convertToInteractive('df-79747034-b50b-432d-8b0b-d26d6bc3e67f')\"\n",
              "              title=\"Convert this dataframe to an interactive table.\"\n",
              "              style=\"display:none;\">\n",
              "        \n",
              "  <svg xmlns=\"http://www.w3.org/2000/svg\" height=\"24px\"viewBox=\"0 0 24 24\"\n",
              "       width=\"24px\">\n",
              "    <path d=\"M0 0h24v24H0V0z\" fill=\"none\"/>\n",
              "    <path d=\"M18.56 5.44l.94 2.06.94-2.06 2.06-.94-2.06-.94-.94-2.06-.94 2.06-2.06.94zm-11 1L8.5 8.5l.94-2.06 2.06-.94-2.06-.94L8.5 2.5l-.94 2.06-2.06.94zm10 10l.94 2.06.94-2.06 2.06-.94-2.06-.94-.94-2.06-.94 2.06-2.06.94z\"/><path d=\"M17.41 7.96l-1.37-1.37c-.4-.4-.92-.59-1.43-.59-.52 0-1.04.2-1.43.59L10.3 9.45l-7.72 7.72c-.78.78-.78 2.05 0 2.83L4 21.41c.39.39.9.59 1.41.59.51 0 1.02-.2 1.41-.59l7.78-7.78 2.81-2.81c.8-.78.8-2.07 0-2.86zM5.41 20L4 18.59l7.72-7.72 1.47 1.35L5.41 20z\"/>\n",
              "  </svg>\n",
              "      </button>\n",
              "      \n",
              "  <style>\n",
              "    .colab-df-container {\n",
              "      display:flex;\n",
              "      flex-wrap:wrap;\n",
              "      gap: 12px;\n",
              "    }\n",
              "\n",
              "    .colab-df-convert {\n",
              "      background-color: #E8F0FE;\n",
              "      border: none;\n",
              "      border-radius: 50%;\n",
              "      cursor: pointer;\n",
              "      display: none;\n",
              "      fill: #1967D2;\n",
              "      height: 32px;\n",
              "      padding: 0 0 0 0;\n",
              "      width: 32px;\n",
              "    }\n",
              "\n",
              "    .colab-df-convert:hover {\n",
              "      background-color: #E2EBFA;\n",
              "      box-shadow: 0px 1px 2px rgba(60, 64, 67, 0.3), 0px 1px 3px 1px rgba(60, 64, 67, 0.15);\n",
              "      fill: #174EA6;\n",
              "    }\n",
              "\n",
              "    [theme=dark] .colab-df-convert {\n",
              "      background-color: #3B4455;\n",
              "      fill: #D2E3FC;\n",
              "    }\n",
              "\n",
              "    [theme=dark] .colab-df-convert:hover {\n",
              "      background-color: #434B5C;\n",
              "      box-shadow: 0px 1px 3px 1px rgba(0, 0, 0, 0.15);\n",
              "      filter: drop-shadow(0px 1px 2px rgba(0, 0, 0, 0.3));\n",
              "      fill: #FFFFFF;\n",
              "    }\n",
              "  </style>\n",
              "\n",
              "      <script>\n",
              "        const buttonEl =\n",
              "          document.querySelector('#df-79747034-b50b-432d-8b0b-d26d6bc3e67f button.colab-df-convert');\n",
              "        buttonEl.style.display =\n",
              "          google.colab.kernel.accessAllowed ? 'block' : 'none';\n",
              "\n",
              "        async function convertToInteractive(key) {\n",
              "          const element = document.querySelector('#df-79747034-b50b-432d-8b0b-d26d6bc3e67f');\n",
              "          const dataTable =\n",
              "            await google.colab.kernel.invokeFunction('convertToInteractive',\n",
              "                                                     [key], {});\n",
              "          if (!dataTable) return;\n",
              "\n",
              "          const docLinkHtml = 'Like what you see? Visit the ' +\n",
              "            '<a target=\"_blank\" href=https://colab.research.google.com/notebooks/data_table.ipynb>data table notebook</a>'\n",
              "            + ' to learn more about interactive tables.';\n",
              "          element.innerHTML = '';\n",
              "          dataTable['output_type'] = 'display_data';\n",
              "          await google.colab.output.renderOutput(dataTable, element);\n",
              "          const docLink = document.createElement('div');\n",
              "          docLink.innerHTML = docLinkHtml;\n",
              "          element.appendChild(docLink);\n",
              "        }\n",
              "      </script>\n",
              "    </div>\n",
              "  </div>\n",
              "  "
            ],
            "text/plain": [
              "conversion      0     1\n",
              "marital                \n",
              "divorced     4135   476\n",
              "married     22390  2531\n",
              "single       9944  1620"
            ]
          },
          "metadata": {},
          "execution_count": 143
        }
      ],
      "source": [
        "conversion_by_maritalstatus"
      ],
      "id": "5ff3a254"
    },
    {
      "cell_type": "code",
      "execution_count": 144,
      "metadata": {
        "id": "722414dd"
      },
      "outputs": [],
      "source": [
        "conversion_by_maritalstatus['Total'] = conversion_by_maritalstatus.sum(axis=1)"
      ],
      "id": "722414dd"
    },
    {
      "cell_type": "code",
      "execution_count": 145,
      "metadata": {
        "id": "e8084d18",
        "colab": {
          "base_uri": "https://localhost:8080/",
          "height": 174
        },
        "outputId": "886384d7-5746-46a7-d655-06e55abe88b4"
      },
      "outputs": [
        {
          "output_type": "execute_result",
          "data": {
            "text/html": [
              "\n",
              "  <div id=\"df-b6687c13-6790-4645-905b-d96936248620\">\n",
              "    <div class=\"colab-df-container\">\n",
              "      <div>\n",
              "<style scoped>\n",
              "    .dataframe tbody tr th:only-of-type {\n",
              "        vertical-align: middle;\n",
              "    }\n",
              "\n",
              "    .dataframe tbody tr th {\n",
              "        vertical-align: top;\n",
              "    }\n",
              "\n",
              "    .dataframe thead th {\n",
              "        text-align: right;\n",
              "    }\n",
              "</style>\n",
              "<table border=\"1\" class=\"dataframe\">\n",
              "  <thead>\n",
              "    <tr style=\"text-align: right;\">\n",
              "      <th>conversion</th>\n",
              "      <th>0</th>\n",
              "      <th>1</th>\n",
              "      <th>Total</th>\n",
              "    </tr>\n",
              "    <tr>\n",
              "      <th>marital</th>\n",
              "      <th></th>\n",
              "      <th></th>\n",
              "      <th></th>\n",
              "    </tr>\n",
              "  </thead>\n",
              "  <tbody>\n",
              "    <tr>\n",
              "      <th>divorced</th>\n",
              "      <td>4135</td>\n",
              "      <td>476</td>\n",
              "      <td>4611</td>\n",
              "    </tr>\n",
              "    <tr>\n",
              "      <th>married</th>\n",
              "      <td>22390</td>\n",
              "      <td>2531</td>\n",
              "      <td>24921</td>\n",
              "    </tr>\n",
              "    <tr>\n",
              "      <th>single</th>\n",
              "      <td>9944</td>\n",
              "      <td>1620</td>\n",
              "      <td>11564</td>\n",
              "    </tr>\n",
              "  </tbody>\n",
              "</table>\n",
              "</div>\n",
              "      <button class=\"colab-df-convert\" onclick=\"convertToInteractive('df-b6687c13-6790-4645-905b-d96936248620')\"\n",
              "              title=\"Convert this dataframe to an interactive table.\"\n",
              "              style=\"display:none;\">\n",
              "        \n",
              "  <svg xmlns=\"http://www.w3.org/2000/svg\" height=\"24px\"viewBox=\"0 0 24 24\"\n",
              "       width=\"24px\">\n",
              "    <path d=\"M0 0h24v24H0V0z\" fill=\"none\"/>\n",
              "    <path d=\"M18.56 5.44l.94 2.06.94-2.06 2.06-.94-2.06-.94-.94-2.06-.94 2.06-2.06.94zm-11 1L8.5 8.5l.94-2.06 2.06-.94-2.06-.94L8.5 2.5l-.94 2.06-2.06.94zm10 10l.94 2.06.94-2.06 2.06-.94-2.06-.94-.94-2.06-.94 2.06-2.06.94z\"/><path d=\"M17.41 7.96l-1.37-1.37c-.4-.4-.92-.59-1.43-.59-.52 0-1.04.2-1.43.59L10.3 9.45l-7.72 7.72c-.78.78-.78 2.05 0 2.83L4 21.41c.39.39.9.59 1.41.59.51 0 1.02-.2 1.41-.59l7.78-7.78 2.81-2.81c.8-.78.8-2.07 0-2.86zM5.41 20L4 18.59l7.72-7.72 1.47 1.35L5.41 20z\"/>\n",
              "  </svg>\n",
              "      </button>\n",
              "      \n",
              "  <style>\n",
              "    .colab-df-container {\n",
              "      display:flex;\n",
              "      flex-wrap:wrap;\n",
              "      gap: 12px;\n",
              "    }\n",
              "\n",
              "    .colab-df-convert {\n",
              "      background-color: #E8F0FE;\n",
              "      border: none;\n",
              "      border-radius: 50%;\n",
              "      cursor: pointer;\n",
              "      display: none;\n",
              "      fill: #1967D2;\n",
              "      height: 32px;\n",
              "      padding: 0 0 0 0;\n",
              "      width: 32px;\n",
              "    }\n",
              "\n",
              "    .colab-df-convert:hover {\n",
              "      background-color: #E2EBFA;\n",
              "      box-shadow: 0px 1px 2px rgba(60, 64, 67, 0.3), 0px 1px 3px 1px rgba(60, 64, 67, 0.15);\n",
              "      fill: #174EA6;\n",
              "    }\n",
              "\n",
              "    [theme=dark] .colab-df-convert {\n",
              "      background-color: #3B4455;\n",
              "      fill: #D2E3FC;\n",
              "    }\n",
              "\n",
              "    [theme=dark] .colab-df-convert:hover {\n",
              "      background-color: #434B5C;\n",
              "      box-shadow: 0px 1px 3px 1px rgba(0, 0, 0, 0.15);\n",
              "      filter: drop-shadow(0px 1px 2px rgba(0, 0, 0, 0.3));\n",
              "      fill: #FFFFFF;\n",
              "    }\n",
              "  </style>\n",
              "\n",
              "      <script>\n",
              "        const buttonEl =\n",
              "          document.querySelector('#df-b6687c13-6790-4645-905b-d96936248620 button.colab-df-convert');\n",
              "        buttonEl.style.display =\n",
              "          google.colab.kernel.accessAllowed ? 'block' : 'none';\n",
              "\n",
              "        async function convertToInteractive(key) {\n",
              "          const element = document.querySelector('#df-b6687c13-6790-4645-905b-d96936248620');\n",
              "          const dataTable =\n",
              "            await google.colab.kernel.invokeFunction('convertToInteractive',\n",
              "                                                     [key], {});\n",
              "          if (!dataTable) return;\n",
              "\n",
              "          const docLinkHtml = 'Like what you see? Visit the ' +\n",
              "            '<a target=\"_blank\" href=https://colab.research.google.com/notebooks/data_table.ipynb>data table notebook</a>'\n",
              "            + ' to learn more about interactive tables.';\n",
              "          element.innerHTML = '';\n",
              "          dataTable['output_type'] = 'display_data';\n",
              "          await google.colab.output.renderOutput(dataTable, element);\n",
              "          const docLink = document.createElement('div');\n",
              "          docLink.innerHTML = docLinkHtml;\n",
              "          element.appendChild(docLink);\n",
              "        }\n",
              "      </script>\n",
              "    </div>\n",
              "  </div>\n",
              "  "
            ],
            "text/plain": [
              "conversion      0     1  Total\n",
              "marital                       \n",
              "divorced     4135   476   4611\n",
              "married     22390  2531  24921\n",
              "single       9944  1620  11564"
            ]
          },
          "metadata": {},
          "execution_count": 145
        }
      ],
      "source": [
        "conversion_by_maritalstatus"
      ],
      "id": "e8084d18"
    },
    {
      "cell_type": "code",
      "execution_count": 146,
      "metadata": {
        "id": "3a3e04a7",
        "colab": {
          "base_uri": "https://localhost:8080/",
          "height": 377
        },
        "outputId": "8f348d34-9b5e-42fa-86d8-28d69ed6959b"
      },
      "outputs": [
        {
          "output_type": "display_data",
          "data": {
            "image/png": "[encoded data removed]",
            "text/plain": [
              "<Figure size 720x360 with 1 Axes>"
            ]
          },
          "metadata": {}
        }
      ],
      "source": [
        "# colors_list = ['grey','#d9534f']\n",
        "ax = (conversion_by_maritalstatus.div(conversion_by_maritalstatus.sum(0), axis=1)).plot(kind='bar',figsize=(10,5),\\\n",
        "                                                                                        width = 0.7,\\\n",
        "                                                                                        edgecolor=None)\n",
        "plt.legend(labels=conversion_by_maritalstatus.columns,fontsize= 14)\n",
        "plt.xticks(fontsize=14)\n",
        "for spine in plt.gca().spines.values():\n",
        "    spine.set_visible(False)\n",
        "    plt.yticks([])\n",
        "#     plt.hlines(0.1126,-0.5,len(list(rotation_province.keys())))\n",
        "    # Add this loop to add the annotations\n",
        "for p in ax.patches:\n",
        "    width, height = p.get_width(), p.get_height()\n",
        "    x, y = p.get_xy()\n",
        "    ax.annotate('{:.1%}'.format(height), (x, y + height + 0.01))"
      ],
      "id": "3a3e04a7"
    },
    {
      "cell_type": "code",
      "execution_count": 147,
      "metadata": {
        "id": "f8408cc2",
        "colab": {
          "base_uri": "https://localhost:8080/",
          "height": 320
        },
        "outputId": "5d77d1a9-895c-442a-b5a8-fdc33ac8305f"
      },
      "outputs": [
        {
          "output_type": "display_data",
          "data": {
            "image/png": "[encoded data removed]",
            "text/plain": [
              "<Figure size 576x360 with 1 Axes>"
            ]
          },
          "metadata": {}
        }
      ],
      "source": [
        "conversion_by_maritalstatus = conversion_by_maritalstatus[[1,0]]\n",
        "ax = conversion_by_maritalstatus.div(conversion_by_maritalstatus\\\n",
        "                                .sum(axis=1),axis=0).plot(kind='barh',stacked=True,figsize=[8,5],color=['orange','blue'])\n",
        "ax.get_legend().remove()####remove the legend. We can you also ax.get_legend().set_visible(False)\n",
        "plt.vlines(0.1127,-0.7,len(conversion_by_maritalstatus),color='grey')\n",
        "for p in ax.patches:\n",
        "    width, height = p.get_width(), p.get_height()\n",
        "    x, y = p.get_xy()\n",
        "    ax.annotate('{:.1%}'.format(width),(x+0.05,y+0.05))"
      ],
      "id": "f8408cc2"
    },
    {
      "cell_type": "markdown",
      "metadata": {
        "id": "ej6dUTnL784e"
      },
      "source": [
        "Dù tình trạng hôn nhân là độc thân, kết hôn hay li dị thì tỷ lệ khách hàng đăng kí mở tài khoản tiết kiệm đều tương đối thấp, tuy nhiên những người độc thân có xu hướng đồng ý mở tài khoản cao hơn so với 2 nhóm còn lại do sống 1 mình thường tiềm ẩn nhiều rủi ro hơn việc gửi tiền tiết kiệm sẽ an toàn hơn so với việc đầu tư tài chính phức tạp có độ rủi ro cao\n",
        "\n",
        "\n",
        "> => cần tập trung vào nhóm người độc thân để tăng số lượng khách mở tài khoản\n",
        "\n",
        "\n"
      ],
      "id": "ej6dUTnL784e"
    },
    {
      "cell_type": "markdown",
      "metadata": {
        "id": "c28ddfaa"
      },
      "source": [
        "# Conversions by age and marital status "
      ],
      "id": "c28ddfaa"
    },
    {
      "cell_type": "code",
      "source": [
        "#df['age_group'] = pd.cut(df['age'],bins=4,precision=0)\n"
      ],
      "metadata": {
        "id": "cHMzysWLRxZZ"
      },
      "id": "cHMzysWLRxZZ",
      "execution_count": 148,
      "outputs": []
    },
    {
      "cell_type": "code",
      "execution_count": 149,
      "metadata": {
        "id": "4ff75e6d"
      },
      "outputs": [],
      "source": [
        "age_marital_df = df.groupby(['age_range','marital'])['conversion'].sum().unstack()"
      ],
      "id": "4ff75e6d"
    },
    {
      "cell_type": "code",
      "execution_count": 150,
      "metadata": {
        "id": "3e3afa46",
        "colab": {
          "base_uri": "https://localhost:8080/",
          "height": 238
        },
        "outputId": "24373750-f129-4c7a-9aa1-86beb3c47b3c"
      },
      "outputs": [
        {
          "output_type": "execute_result",
          "data": {
            "text/html": [
              "\n",
              "  <div id=\"df-fd2004f2-e5c3-4e9f-8ffa-931444786251\">\n",
              "    <div class=\"colab-df-container\">\n",
              "      <div>\n",
              "<style scoped>\n",
              "    .dataframe tbody tr th:only-of-type {\n",
              "        vertical-align: middle;\n",
              "    }\n",
              "\n",
              "    .dataframe tbody tr th {\n",
              "        vertical-align: top;\n",
              "    }\n",
              "\n",
              "    .dataframe thead th {\n",
              "        text-align: right;\n",
              "    }\n",
              "</style>\n",
              "<table border=\"1\" class=\"dataframe\">\n",
              "  <thead>\n",
              "    <tr style=\"text-align: right;\">\n",
              "      <th>marital</th>\n",
              "      <th>divorced</th>\n",
              "      <th>married</th>\n",
              "      <th>single</th>\n",
              "    </tr>\n",
              "    <tr>\n",
              "      <th>age_range</th>\n",
              "      <th></th>\n",
              "      <th></th>\n",
              "      <th></th>\n",
              "    </tr>\n",
              "  </thead>\n",
              "  <tbody>\n",
              "    <tr>\n",
              "      <th>60+</th>\n",
              "      <td>85.0</td>\n",
              "      <td>318.0</td>\n",
              "      <td>10.0</td>\n",
              "    </tr>\n",
              "    <tr>\n",
              "      <th>[18,24]</th>\n",
              "      <td>0.0</td>\n",
              "      <td>12.0</td>\n",
              "      <td>242.0</td>\n",
              "    </tr>\n",
              "    <tr>\n",
              "      <th>[18-]</th>\n",
              "      <td>NaN</td>\n",
              "      <td>NaN</td>\n",
              "      <td>2.0</td>\n",
              "    </tr>\n",
              "    <tr>\n",
              "      <th>[25,40]</th>\n",
              "      <td>153.0</td>\n",
              "      <td>1097.0</td>\n",
              "      <td>1208.0</td>\n",
              "    </tr>\n",
              "    <tr>\n",
              "      <th>[41,60]</th>\n",
              "      <td>238.0</td>\n",
              "      <td>1104.0</td>\n",
              "      <td>158.0</td>\n",
              "    </tr>\n",
              "  </tbody>\n",
              "</table>\n",
              "</div>\n",
              "      <button class=\"colab-df-convert\" onclick=\"convertToInteractive('df-fd2004f2-e5c3-4e9f-8ffa-931444786251')\"\n",
              "              title=\"Convert this dataframe to an interactive table.\"\n",
              "              style=\"display:none;\">\n",
              "        \n",
              "  <svg xmlns=\"http://www.w3.org/2000/svg\" height=\"24px\"viewBox=\"0 0 24 24\"\n",
              "       width=\"24px\">\n",
              "    <path d=\"M0 0h24v24H0V0z\" fill=\"none\"/>\n",
              "    <path d=\"M18.56 5.44l.94 2.06.94-2.06 2.06-.94-2.06-.94-.94-2.06-.94 2.06-2.06.94zm-11 1L8.5 8.5l.94-2.06 2.06-.94-2.06-.94L8.5 2.5l-.94 2.06-2.06.94zm10 10l.94 2.06.94-2.06 2.06-.94-2.06-.94-.94-2.06-.94 2.06-2.06.94z\"/><path d=\"M17.41 7.96l-1.37-1.37c-.4-.4-.92-.59-1.43-.59-.52 0-1.04.2-1.43.59L10.3 9.45l-7.72 7.72c-.78.78-.78 2.05 0 2.83L4 21.41c.39.39.9.59 1.41.59.51 0 1.02-.2 1.41-.59l7.78-7.78 2.81-2.81c.8-.78.8-2.07 0-2.86zM5.41 20L4 18.59l7.72-7.72 1.47 1.35L5.41 20z\"/>\n",
              "  </svg>\n",
              "      </button>\n",
              "      \n",
              "  <style>\n",
              "    .colab-df-container {\n",
              "      display:flex;\n",
              "      flex-wrap:wrap;\n",
              "      gap: 12px;\n",
              "    }\n",
              "\n",
              "    .colab-df-convert {\n",
              "      background-color: #E8F0FE;\n",
              "      border: none;\n",
              "      border-radius: 50%;\n",
              "      cursor: pointer;\n",
              "      display: none;\n",
              "      fill: #1967D2;\n",
              "      height: 32px;\n",
              "      padding: 0 0 0 0;\n",
              "      width: 32px;\n",
              "    }\n",
              "\n",
              "    .colab-df-convert:hover {\n",
              "      background-color: #E2EBFA;\n",
              "      box-shadow: 0px 1px 2px rgba(60, 64, 67, 0.3), 0px 1px 3px 1px rgba(60, 64, 67, 0.15);\n",
              "      fill: #174EA6;\n",
              "    }\n",
              "\n",
              "    [theme=dark] .colab-df-convert {\n",
              "      background-color: #3B4455;\n",
              "      fill: #D2E3FC;\n",
              "    }\n",
              "\n",
              "    [theme=dark] .colab-df-convert:hover {\n",
              "      background-color: #434B5C;\n",
              "      box-shadow: 0px 1px 3px 1px rgba(0, 0, 0, 0.15);\n",
              "      filter: drop-shadow(0px 1px 2px rgba(0, 0, 0, 0.3));\n",
              "      fill: #FFFFFF;\n",
              "    }\n",
              "  </style>\n",
              "\n",
              "      <script>\n",
              "        const buttonEl =\n",
              "          document.querySelector('#df-fd2004f2-e5c3-4e9f-8ffa-931444786251 button.colab-df-convert');\n",
              "        buttonEl.style.display =\n",
              "          google.colab.kernel.accessAllowed ? 'block' : 'none';\n",
              "\n",
              "        async function convertToInteractive(key) {\n",
              "          const element = document.querySelector('#df-fd2004f2-e5c3-4e9f-8ffa-931444786251');\n",
              "          const dataTable =\n",
              "            await google.colab.kernel.invokeFunction('convertToInteractive',\n",
              "                                                     [key], {});\n",
              "          if (!dataTable) return;\n",
              "\n",
              "          const docLinkHtml = 'Like what you see? Visit the ' +\n",
              "            '<a target=\"_blank\" href=https://colab.research.google.com/notebooks/data_table.ipynb>data table notebook</a>'\n",
              "            + ' to learn more about interactive tables.';\n",
              "          element.innerHTML = '';\n",
              "          dataTable['output_type'] = 'display_data';\n",
              "          await google.colab.output.renderOutput(dataTable, element);\n",
              "          const docLink = document.createElement('div');\n",
              "          docLink.innerHTML = docLinkHtml;\n",
              "          element.appendChild(docLink);\n",
              "        }\n",
              "      </script>\n",
              "    </div>\n",
              "  </div>\n",
              "  "
            ],
            "text/plain": [
              "marital    divorced  married  single\n",
              "age_range                           \n",
              "60+            85.0    318.0    10.0\n",
              "[18,24]         0.0     12.0   242.0\n",
              "[18-]           NaN      NaN     2.0\n",
              "[25,40]       153.0   1097.0  1208.0\n",
              "[41,60]       238.0   1104.0   158.0"
            ]
          },
          "metadata": {},
          "execution_count": 150
        }
      ],
      "source": [
        "age_marital_df"
      ],
      "id": "3e3afa46"
    },
    {
      "cell_type": "code",
      "execution_count": 151,
      "metadata": {
        "id": "20cff948"
      },
      "outputs": [],
      "source": [
        "count_age_marital_df = age_marital_df.copy()"
      ],
      "id": "20cff948"
    },
    {
      "cell_type": "code",
      "execution_count": 152,
      "metadata": {
        "id": "2d7370fe"
      },
      "outputs": [],
      "source": [
        "age_marital_df = age_marital_df.div(df.groupby(['age_range','marital'])['conversion'].count().unstack(),axis=0)"
      ],
      "id": "2d7370fe"
    },
    {
      "cell_type": "code",
      "execution_count": 153,
      "metadata": {
        "id": "fbf5f7ee",
        "colab": {
          "base_uri": "https://localhost:8080/",
          "height": 535
        },
        "outputId": "02006c08-e3c1-46c8-dd85-046163b4deba"
      },
      "outputs": [
        {
          "output_type": "execute_result",
          "data": {
            "text/plain": [
              "<matplotlib.axes._subplots.AxesSubplot at 0x7fef1ec8d810>"
            ]
          },
          "metadata": {},
          "execution_count": 153
        },
        {
          "output_type": "display_data",
          "data": {
            "image/png": "[encoded data removed]",
            "text/plain": [
              "<Figure size 1080x576 with 1 Axes>"
            ]
          },
          "metadata": {}
        }
      ],
      "source": [
        "\n",
        "age_marital_df.plot(kind='bar',figsize=(15,8))"
      ],
      "id": "fbf5f7ee"
    },
    {
      "cell_type": "code",
      "execution_count": 154,
      "metadata": {
        "id": "947f2ead",
        "colab": {
          "base_uri": "https://localhost:8080/",
          "height": 361
        },
        "outputId": "2545540a-3c79-485c-bef8-4d9a58ad338d"
      },
      "outputs": [
        {
          "output_type": "display_data",
          "data": {
            "image/png": "[encoded data removed]",
            "text/plain": [
              "<Figure size 576x396 with 2 Axes>"
            ]
          },
          "metadata": {}
        }
      ],
      "source": [
        "import seaborn as sns\n",
        "hc = ['#e5e5ff', '#acacdf', '#7272bf', '#39399f', '#000080']\n",
        "ax = sns.heatmap(age_marital_df,cmap='Blues',annot=True)"
      ],
      "id": "947f2ead"
    },
    {
      "cell_type": "code",
      "execution_count": 155,
      "metadata": {
        "id": "8dcd4d35"
      },
      "outputs": [],
      "source": [
        "df_stacked = age_marital_df.unstack()\n",
        "df_stacked = df_stacked.reset_index()\n",
        "df_stacked = df_stacked.rename(columns = {0:'conversion_rate'})"
      ],
      "id": "8dcd4d35"
    },
    {
      "cell_type": "code",
      "execution_count": 156,
      "metadata": {
        "id": "f31040df"
      },
      "outputs": [],
      "source": [
        "df_stacked2 = count_age_marital_df.unstack()\n",
        "df_stacked2 = df_stacked2.reset_index()"
      ],
      "id": "f31040df"
    },
    {
      "cell_type": "code",
      "execution_count": 157,
      "metadata": {
        "id": "b6e98176"
      },
      "outputs": [],
      "source": [
        "df_stacked2 = df_stacked2.rename(columns={0:'Totals'})"
      ],
      "id": "b6e98176"
    },
    {
      "cell_type": "code",
      "execution_count": 158,
      "metadata": {
        "id": "eb7f5029",
        "colab": {
          "base_uri": "https://localhost:8080/"
        },
        "outputId": "3c0f7375-96ac-47e2-8f10-2868ded8057c"
      },
      "outputs": [
        {
          "output_type": "execute_result",
          "data": {
            "text/plain": [
              "Index(['marital', 'age_range', 'Totals'], dtype='object')"
            ]
          },
          "metadata": {},
          "execution_count": 158
        }
      ],
      "source": [
        "df_stacked2.columns"
      ],
      "id": "eb7f5029"
    },
    {
      "cell_type": "code",
      "execution_count": 159,
      "metadata": {
        "id": "7972c846"
      },
      "outputs": [],
      "source": [
        "df_stack = pd.merge(df_stacked, df_stacked2,on=['marital','age_range'],how='left')"
      ],
      "id": "7972c846"
    },
    {
      "cell_type": "code",
      "execution_count": 160,
      "metadata": {
        "id": "6ce23049",
        "colab": {
          "base_uri": "https://localhost:8080/",
          "height": 520
        },
        "outputId": "31593bb1-2a2d-4c40-bf50-e25832550025"
      },
      "outputs": [
        {
          "output_type": "execute_result",
          "data": {
            "text/html": [
              "\n",
              "  <div id=\"df-035aa232-3080-4242-9142-775b9668eccd\">\n",
              "    <div class=\"colab-df-container\">\n",
              "      <div>\n",
              "<style scoped>\n",
              "    .dataframe tbody tr th:only-of-type {\n",
              "        vertical-align: middle;\n",
              "    }\n",
              "\n",
              "    .dataframe tbody tr th {\n",
              "        vertical-align: top;\n",
              "    }\n",
              "\n",
              "    .dataframe thead th {\n",
              "        text-align: right;\n",
              "    }\n",
              "</style>\n",
              "<table border=\"1\" class=\"dataframe\">\n",
              "  <thead>\n",
              "    <tr style=\"text-align: right;\">\n",
              "      <th></th>\n",
              "      <th>marital</th>\n",
              "      <th>age_range</th>\n",
              "      <th>conversion_rate</th>\n",
              "      <th>Totals</th>\n",
              "    </tr>\n",
              "  </thead>\n",
              "  <tbody>\n",
              "    <tr>\n",
              "      <th>0</th>\n",
              "      <td>divorced</td>\n",
              "      <td>60+</td>\n",
              "      <td>0.472222</td>\n",
              "      <td>85.0</td>\n",
              "    </tr>\n",
              "    <tr>\n",
              "      <th>1</th>\n",
              "      <td>divorced</td>\n",
              "      <td>[18,24]</td>\n",
              "      <td>0.000000</td>\n",
              "      <td>0.0</td>\n",
              "    </tr>\n",
              "    <tr>\n",
              "      <th>2</th>\n",
              "      <td>divorced</td>\n",
              "      <td>[18-]</td>\n",
              "      <td>NaN</td>\n",
              "      <td>NaN</td>\n",
              "    </tr>\n",
              "    <tr>\n",
              "      <th>3</th>\n",
              "      <td>divorced</td>\n",
              "      <td>[25,40]</td>\n",
              "      <td>0.088439</td>\n",
              "      <td>153.0</td>\n",
              "    </tr>\n",
              "    <tr>\n",
              "      <th>4</th>\n",
              "      <td>divorced</td>\n",
              "      <td>[41,60]</td>\n",
              "      <td>0.088246</td>\n",
              "      <td>238.0</td>\n",
              "    </tr>\n",
              "    <tr>\n",
              "      <th>5</th>\n",
              "      <td>married</td>\n",
              "      <td>60+</td>\n",
              "      <td>0.456241</td>\n",
              "      <td>318.0</td>\n",
              "    </tr>\n",
              "    <tr>\n",
              "      <th>6</th>\n",
              "      <td>married</td>\n",
              "      <td>[18,24]</td>\n",
              "      <td>0.090226</td>\n",
              "      <td>12.0</td>\n",
              "    </tr>\n",
              "    <tr>\n",
              "      <th>7</th>\n",
              "      <td>married</td>\n",
              "      <td>[18-]</td>\n",
              "      <td>NaN</td>\n",
              "      <td>NaN</td>\n",
              "    </tr>\n",
              "    <tr>\n",
              "      <th>8</th>\n",
              "      <td>married</td>\n",
              "      <td>[25,40]</td>\n",
              "      <td>0.091738</td>\n",
              "      <td>1097.0</td>\n",
              "    </tr>\n",
              "    <tr>\n",
              "      <th>9</th>\n",
              "      <td>married</td>\n",
              "      <td>[41,60]</td>\n",
              "      <td>0.090992</td>\n",
              "      <td>1104.0</td>\n",
              "    </tr>\n",
              "    <tr>\n",
              "      <th>10</th>\n",
              "      <td>single</td>\n",
              "      <td>60+</td>\n",
              "      <td>0.333333</td>\n",
              "      <td>10.0</td>\n",
              "    </tr>\n",
              "    <tr>\n",
              "      <th>11</th>\n",
              "      <td>single</td>\n",
              "      <td>[18,24]</td>\n",
              "      <td>0.261622</td>\n",
              "      <td>242.0</td>\n",
              "    </tr>\n",
              "    <tr>\n",
              "      <th>12</th>\n",
              "      <td>single</td>\n",
              "      <td>[18-]</td>\n",
              "      <td>0.400000</td>\n",
              "      <td>2.0</td>\n",
              "    </tr>\n",
              "    <tr>\n",
              "      <th>13</th>\n",
              "      <td>single</td>\n",
              "      <td>[25,40]</td>\n",
              "      <td>0.134867</td>\n",
              "      <td>1208.0</td>\n",
              "    </tr>\n",
              "    <tr>\n",
              "      <th>14</th>\n",
              "      <td>single</td>\n",
              "      <td>[41,60]</td>\n",
              "      <td>0.095932</td>\n",
              "      <td>158.0</td>\n",
              "    </tr>\n",
              "  </tbody>\n",
              "</table>\n",
              "</div>\n",
              "      <button class=\"colab-df-convert\" onclick=\"convertToInteractive('df-035aa232-3080-4242-9142-775b9668eccd')\"\n",
              "              title=\"Convert this dataframe to an interactive table.\"\n",
              "              style=\"display:none;\">\n",
              "        \n",
              "  <svg xmlns=\"http://www.w3.org/2000/svg\" height=\"24px\"viewBox=\"0 0 24 24\"\n",
              "       width=\"24px\">\n",
              "    <path d=\"M0 0h24v24H0V0z\" fill=\"none\"/>\n",
              "    <path d=\"M18.56 5.44l.94 2.06.94-2.06 2.06-.94-2.06-.94-.94-2.06-.94 2.06-2.06.94zm-11 1L8.5 8.5l.94-2.06 2.06-.94-2.06-.94L8.5 2.5l-.94 2.06-2.06.94zm10 10l.94 2.06.94-2.06 2.06-.94-2.06-.94-.94-2.06-.94 2.06-2.06.94z\"/><path d=\"M17.41 7.96l-1.37-1.37c-.4-.4-.92-.59-1.43-.59-.52 0-1.04.2-1.43.59L10.3 9.45l-7.72 7.72c-.78.78-.78 2.05 0 2.83L4 21.41c.39.39.9.59 1.41.59.51 0 1.02-.2 1.41-.59l7.78-7.78 2.81-2.81c.8-.78.8-2.07 0-2.86zM5.41 20L4 18.59l7.72-7.72 1.47 1.35L5.41 20z\"/>\n",
              "  </svg>\n",
              "      </button>\n",
              "      \n",
              "  <style>\n",
              "    .colab-df-container {\n",
              "      display:flex;\n",
              "      flex-wrap:wrap;\n",
              "      gap: 12px;\n",
              "    }\n",
              "\n",
              "    .colab-df-convert {\n",
              "      background-color: #E8F0FE;\n",
              "      border: none;\n",
              "      border-radius: 50%;\n",
              "      cursor: pointer;\n",
              "      display: none;\n",
              "      fill: #1967D2;\n",
              "      height: 32px;\n",
              "      padding: 0 0 0 0;\n",
              "      width: 32px;\n",
              "    }\n",
              "\n",
              "    .colab-df-convert:hover {\n",
              "      background-color: #E2EBFA;\n",
              "      box-shadow: 0px 1px 2px rgba(60, 64, 67, 0.3), 0px 1px 3px 1px rgba(60, 64, 67, 0.15);\n",
              "      fill: #174EA6;\n",
              "    }\n",
              "\n",
              "    [theme=dark] .colab-df-convert {\n",
              "      background-color: #3B4455;\n",
              "      fill: #D2E3FC;\n",
              "    }\n",
              "\n",
              "    [theme=dark] .colab-df-convert:hover {\n",
              "      background-color: #434B5C;\n",
              "      box-shadow: 0px 1px 3px 1px rgba(0, 0, 0, 0.15);\n",
              "      filter: drop-shadow(0px 1px 2px rgba(0, 0, 0, 0.3));\n",
              "      fill: #FFFFFF;\n",
              "    }\n",
              "  </style>\n",
              "\n",
              "      <script>\n",
              "        const buttonEl =\n",
              "          document.querySelector('#df-035aa232-3080-4242-9142-775b9668eccd button.colab-df-convert');\n",
              "        buttonEl.style.display =\n",
              "          google.colab.kernel.accessAllowed ? 'block' : 'none';\n",
              "\n",
              "        async function convertToInteractive(key) {\n",
              "          const element = document.querySelector('#df-035aa232-3080-4242-9142-775b9668eccd');\n",
              "          const dataTable =\n",
              "            await google.colab.kernel.invokeFunction('convertToInteractive',\n",
              "                                                     [key], {});\n",
              "          if (!dataTable) return;\n",
              "\n",
              "          const docLinkHtml = 'Like what you see? Visit the ' +\n",
              "            '<a target=\"_blank\" href=https://colab.research.google.com/notebooks/data_table.ipynb>data table notebook</a>'\n",
              "            + ' to learn more about interactive tables.';\n",
              "          element.innerHTML = '';\n",
              "          dataTable['output_type'] = 'display_data';\n",
              "          await google.colab.output.renderOutput(dataTable, element);\n",
              "          const docLink = document.createElement('div');\n",
              "          docLink.innerHTML = docLinkHtml;\n",
              "          element.appendChild(docLink);\n",
              "        }\n",
              "      </script>\n",
              "    </div>\n",
              "  </div>\n",
              "  "
            ],
            "text/plain": [
              "     marital age_range  conversion_rate  Totals\n",
              "0   divorced       60+         0.472222    85.0\n",
              "1   divorced   [18,24]         0.000000     0.0\n",
              "2   divorced     [18-]              NaN     NaN\n",
              "3   divorced   [25,40]         0.088439   153.0\n",
              "4   divorced   [41,60]         0.088246   238.0\n",
              "5    married       60+         0.456241   318.0\n",
              "6    married   [18,24]         0.090226    12.0\n",
              "7    married     [18-]              NaN     NaN\n",
              "8    married   [25,40]         0.091738  1097.0\n",
              "9    married   [41,60]         0.090992  1104.0\n",
              "10    single       60+         0.333333    10.0\n",
              "11    single   [18,24]         0.261622   242.0\n",
              "12    single     [18-]         0.400000     2.0\n",
              "13    single   [25,40]         0.134867  1208.0\n",
              "14    single   [41,60]         0.095932   158.0"
            ]
          },
          "metadata": {},
          "execution_count": 160
        }
      ],
      "source": [
        "df_stack"
      ],
      "id": "6ce23049"
    },
    {
      "cell_type": "code",
      "execution_count": 161,
      "metadata": {
        "id": "3278b36f",
        "colab": {
          "base_uri": "https://localhost:8080/",
          "height": 542
        },
        "outputId": "b3b7b471-f6b5-4b59-ec92-1340b348cf44"
      },
      "outputs": [
        {
          "output_type": "display_data",
          "data": {
            "text/html": [
              "<html>\n",
              "<head><meta charset=\"utf-8\" /></head>\n",
              "<body>\n",
              "    <div>            <script src=\"https://cdnjs.cloudflare.com/ajax/libs/mathjax/2.7.5/MathJax.js?config=TeX-AMS-MML_SVG\"></script><script type=\"text/javascript\">if (window.MathJax) {MathJax.Hub.Config({SVG: {font: \"STIX-Web\"}});}</script>                <script type=\"text/javascript\">window.PlotlyConfig = {MathJaxConfig: 'local'};</script>\n",
              "        <script src=\"https://cdn.plot.ly/plotly-2.8.3.min.js\"></script>                <div id=\"3c51e3c2-1aac-4625-9043-d571bffac5fc\" class=\"plotly-graph-div\" style=\"height:525px; width:100%;\"></div>            <script type=\"text/javascript\">                                    window.PLOTLYENV=window.PLOTLYENV || {};                                    if (document.getElementById(\"3c51e3c2-1aac-4625-9043-d571bffac5fc\")) {                    Plotly.newPlot(                        \"3c51e3c2-1aac-4625-9043-d571bffac5fc\",                        [{\"branchvalues\":\"total\",\"customdata\":[[0.4722222222222222],[0.45624103299856533],[0.3333333333333333],[0.09022556390977443],[0.2616216216216216],[null],[null],[0.4],[0.0884393063583815],[0.09173774878742265],[0.13486658479401586],[0.0882461994809047],[0.09099151075579],[0.09593199757134184],[null],[null],[0.15155670111926478]],\"domain\":{\"x\":[0.0,1.0],\"y\":[0.0,1.0]},\"hovertemplate\":\"labels=%{label}<br>Totals=%{value}<br>parent=%{parent}<br>id=%{id}<br>conversion_rate=%{color}<extra></extra>\",\"ids\":[\"divorced/60+\",\"married/60+\",\"single/60+\",\"married/[18,24]\",\"single/[18,24]\",\"divorced/[18-]\",\"married/[18-]\",\"single/[18-]\",\"divorced/[25,40]\",\"married/[25,40]\",\"single/[25,40]\",\"divorced/[41,60]\",\"married/[41,60]\",\"single/[41,60]\",\"divorced\",\"married\",\"single\"],\"labels\":[\"60+\",\"60+\",\"60+\",\"[18,24]\",\"[18,24]\",\"[18-]\",\"[18-]\",\"[18-]\",\"[25,40]\",\"[25,40]\",\"[25,40]\",\"[41,60]\",\"[41,60]\",\"[41,60]\",\"divorced\",\"married\",\"single\"],\"marker\":{\"coloraxis\":\"coloraxis\",\"colors\":[0.4722222222222222,0.45624103299856533,0.3333333333333333,0.09022556390977443,0.2616216216216216,null,null,0.4,0.0884393063583815,0.09173774878742265,0.13486658479401586,0.0882461994809047,0.09099151075579,0.09593199757134184,null,null,0.15155670111926478]},\"name\":\"\",\"parents\":[\"divorced\",\"married\",\"single\",\"married\",\"single\",\"divorced\",\"married\",\"single\",\"divorced\",\"married\",\"single\",\"divorced\",\"married\",\"single\",\"\",\"\",\"\"],\"values\":[85.0,318.0,10.0,12.0,242.0,0.0,0.0,2.0,153.0,1097.0,1208.0,238.0,1104.0,158.0,476.0,2531.0,1620.0],\"type\":\"treemap\",\"root\":{\"color\":\"lightgrey\"}}],                        {\"template\":{\"data\":{\"bar\":[{\"error_x\":{\"color\":\"#2a3f5f\"},\"error_y\":{\"color\":\"#2a3f5f\"},\"marker\":{\"line\":{\"color\":\"#E5ECF6\",\"width\":0.5},\"pattern\":{\"fillmode\":\"overlay\",\"size\":10,\"solidity\":0.2}},\"type\":\"bar\"}],\"barpolar\":[{\"marker\":{\"line\":{\"color\":\"#E5ECF6\",\"width\":0.5},\"pattern\":{\"fillmode\":\"overlay\",\"size\":10,\"solidity\":0.2}},\"type\":\"barpolar\"}],\"carpet\":[{\"aaxis\":{\"endlinecolor\":\"#2a3f5f\",\"gridcolor\":\"white\",\"linecolor\":\"white\",\"minorgridcolor\":\"white\",\"startlinecolor\":\"#2a3f5f\"},\"baxis\":{\"endlinecolor\":\"#2a3f5f\",\"gridcolor\":\"white\",\"linecolor\":\"white\",\"minorgridcolor\":\"white\",\"startlinecolor\":\"#2a3f5f\"},\"type\":\"carpet\"}],\"choropleth\":[{\"colorbar\":{\"outlinewidth\":0,\"ticks\":\"\"},\"type\":\"choropleth\"}],\"contour\":[{\"colorbar\":{\"outlinewidth\":0,\"ticks\":\"\"},\"colorscale\":[[0.0,\"#0d0887\"],[0.1111111111111111,\"#46039f\"],[0.2222222222222222,\"#7201a8\"],[0.3333333333333333,\"#9c179e\"],[0.4444444444444444,\"#bd3786\"],[0.5555555555555556,\"#d8576b\"],[0.6666666666666666,\"#ed7953\"],[0.7777777777777778,\"#fb9f3a\"],[0.8888888888888888,\"#fdca26\"],[1.0,\"#f0f921\"]],\"type\":\"contour\"}],\"contourcarpet\":[{\"colorbar\":{\"outlinewidth\":0,\"ticks\":\"\"},\"type\":\"contourcarpet\"}],\"heatmap\":[{\"colorbar\":{\"outlinewidth\":0,\"ticks\":\"\"},\"colorscale\":[[0.0,\"#0d0887\"],[0.1111111111111111,\"#46039f\"],[0.2222222222222222,\"#7201a8\"],[0.3333333333333333,\"#9c179e\"],[0.4444444444444444,\"#bd3786\"],[0.5555555555555556,\"#d8576b\"],[0.6666666666666666,\"#ed7953\"],[0.7777777777777778,\"#fb9f3a\"],[0.8888888888888888,\"#fdca26\"],[1.0,\"#f0f921\"]],\"type\":\"heatmap\"}],\"heatmapgl\":[{\"colorbar\":{\"outlinewidth\":0,\"ticks\":\"\"},\"colorscale\":[[0.0,\"#0d0887\"],[0.1111111111111111,\"#46039f\"],[0.2222222222222222,\"#7201a8\"],[0.3333333333333333,\"#9c179e\"],[0.4444444444444444,\"#bd3786\"],[0.5555555555555556,\"#d8576b\"],[0.6666666666666666,\"#ed7953\"],[0.7777777777777778,\"#fb9f3a\"],[0.8888888888888888,\"#fdca26\"],[1.0,\"#f0f921\"]],\"type\":\"heatmapgl\"}],\"histogram\":[{\"marker\":{\"pattern\":{\"fillmode\":\"overlay\",\"size\":10,\"solidity\":0.2}},\"type\":\"histogram\"}],\"histogram2d\":[{\"colorbar\":{\"outlinewidth\":0,\"ticks\":\"\"},\"colorscale\":[[0.0,\"#0d0887\"],[0.1111111111111111,\"#46039f\"],[0.2222222222222222,\"#7201a8\"],[0.3333333333333333,\"#9c179e\"],[0.4444444444444444,\"#bd3786\"],[0.5555555555555556,\"#d8576b\"],[0.6666666666666666,\"#ed7953\"],[0.7777777777777778,\"#fb9f3a\"],[0.8888888888888888,\"#fdca26\"],[1.0,\"#f0f921\"]],\"type\":\"histogram2d\"}],\"histogram2dcontour\":[{\"colorbar\":{\"outlinewidth\":0,\"ticks\":\"\"},\"colorscale\":[[0.0,\"#0d0887\"],[0.1111111111111111,\"#46039f\"],[0.2222222222222222,\"#7201a8\"],[0.3333333333333333,\"#9c179e\"],[0.4444444444444444,\"#bd3786\"],[0.5555555555555556,\"#d8576b\"],[0.6666666666666666,\"#ed7953\"],[0.7777777777777778,\"#fb9f3a\"],[0.8888888888888888,\"#fdca26\"],[1.0,\"#f0f921\"]],\"type\":\"histogram2dcontour\"}],\"mesh3d\":[{\"colorbar\":{\"outlinewidth\":0,\"ticks\":\"\"},\"type\":\"mesh3d\"}],\"parcoords\":[{\"line\":{\"colorbar\":{\"outlinewidth\":0,\"ticks\":\"\"}},\"type\":\"parcoords\"}],\"pie\":[{\"automargin\":true,\"type\":\"pie\"}],\"scatter\":[{\"marker\":{\"colorbar\":{\"outlinewidth\":0,\"ticks\":\"\"}},\"type\":\"scatter\"}],\"scatter3d\":[{\"line\":{\"colorbar\":{\"outlinewidth\":0,\"ticks\":\"\"}},\"marker\":{\"colorbar\":{\"outlinewidth\":0,\"ticks\":\"\"}},\"type\":\"scatter3d\"}],\"scattercarpet\":[{\"marker\":{\"colorbar\":{\"outlinewidth\":0,\"ticks\":\"\"}},\"type\":\"scattercarpet\"}],\"scattergeo\":[{\"marker\":{\"colorbar\":{\"outlinewidth\":0,\"ticks\":\"\"}},\"type\":\"scattergeo\"}],\"scattergl\":[{\"marker\":{\"colorbar\":{\"outlinewidth\":0,\"ticks\":\"\"}},\"type\":\"scattergl\"}],\"scattermapbox\":[{\"marker\":{\"colorbar\":{\"outlinewidth\":0,\"ticks\":\"\"}},\"type\":\"scattermapbox\"}],\"scatterpolar\":[{\"marker\":{\"colorbar\":{\"outlinewidth\":0,\"ticks\":\"\"}},\"type\":\"scatterpolar\"}],\"scatterpolargl\":[{\"marker\":{\"colorbar\":{\"outlinewidth\":0,\"ticks\":\"\"}},\"type\":\"scatterpolargl\"}],\"scatterternary\":[{\"marker\":{\"colorbar\":{\"outlinewidth\":0,\"ticks\":\"\"}},\"type\":\"scatterternary\"}],\"surface\":[{\"colorbar\":{\"outlinewidth\":0,\"ticks\":\"\"},\"colorscale\":[[0.0,\"#0d0887\"],[0.1111111111111111,\"#46039f\"],[0.2222222222222222,\"#7201a8\"],[0.3333333333333333,\"#9c179e\"],[0.4444444444444444,\"#bd3786\"],[0.5555555555555556,\"#d8576b\"],[0.6666666666666666,\"#ed7953\"],[0.7777777777777778,\"#fb9f3a\"],[0.8888888888888888,\"#fdca26\"],[1.0,\"#f0f921\"]],\"type\":\"surface\"}],\"table\":[{\"cells\":{\"fill\":{\"color\":\"#EBF0F8\"},\"line\":{\"color\":\"white\"}},\"header\":{\"fill\":{\"color\":\"#C8D4E3\"},\"line\":{\"color\":\"white\"}},\"type\":\"table\"}]},\"layout\":{\"annotationdefaults\":{\"arrowcolor\":\"#2a3f5f\",\"arrowhead\":0,\"arrowwidth\":1},\"autotypenumbers\":\"strict\",\"coloraxis\":{\"colorbar\":{\"outlinewidth\":0,\"ticks\":\"\"}},\"colorscale\":{\"diverging\":[[0,\"#8e0152\"],[0.1,\"#c51b7d\"],[0.2,\"#de77ae\"],[0.3,\"#f1b6da\"],[0.4,\"#fde0ef\"],[0.5,\"#f7f7f7\"],[0.6,\"#e6f5d0\"],[0.7,\"#b8e186\"],[0.8,\"#7fbc41\"],[0.9,\"#4d9221\"],[1,\"#276419\"]],\"sequential\":[[0.0,\"#0d0887\"],[0.1111111111111111,\"#46039f\"],[0.2222222222222222,\"#7201a8\"],[0.3333333333333333,\"#9c179e\"],[0.4444444444444444,\"#bd3786\"],[0.5555555555555556,\"#d8576b\"],[0.6666666666666666,\"#ed7953\"],[0.7777777777777778,\"#fb9f3a\"],[0.8888888888888888,\"#fdca26\"],[1.0,\"#f0f921\"]],\"sequentialminus\":[[0.0,\"#0d0887\"],[0.1111111111111111,\"#46039f\"],[0.2222222222222222,\"#7201a8\"],[0.3333333333333333,\"#9c179e\"],[0.4444444444444444,\"#bd3786\"],[0.5555555555555556,\"#d8576b\"],[0.6666666666666666,\"#ed7953\"],[0.7777777777777778,\"#fb9f3a\"],[0.8888888888888888,\"#fdca26\"],[1.0,\"#f0f921\"]]},\"colorway\":[\"#636efa\",\"#EF553B\",\"#00cc96\",\"#ab63fa\",\"#FFA15A\",\"#19d3f3\",\"#FF6692\",\"#B6E880\",\"#FF97FF\",\"#FECB52\"],\"font\":{\"color\":\"#2a3f5f\"},\"geo\":{\"bgcolor\":\"white\",\"lakecolor\":\"white\",\"landcolor\":\"#E5ECF6\",\"showlakes\":true,\"showland\":true,\"subunitcolor\":\"white\"},\"hoverlabel\":{\"align\":\"left\"},\"hovermode\":\"closest\",\"mapbox\":{\"style\":\"light\"},\"paper_bgcolor\":\"white\",\"plot_bgcolor\":\"#E5ECF6\",\"polar\":{\"angularaxis\":{\"gridcolor\":\"white\",\"linecolor\":\"white\",\"ticks\":\"\"},\"bgcolor\":\"#E5ECF6\",\"radialaxis\":{\"gridcolor\":\"white\",\"linecolor\":\"white\",\"ticks\":\"\"}},\"scene\":{\"xaxis\":{\"backgroundcolor\":\"#E5ECF6\",\"gridcolor\":\"white\",\"gridwidth\":2,\"linecolor\":\"white\",\"showbackground\":true,\"ticks\":\"\",\"zerolinecolor\":\"white\"},\"yaxis\":{\"backgroundcolor\":\"#E5ECF6\",\"gridcolor\":\"white\",\"gridwidth\":2,\"linecolor\":\"white\",\"showbackground\":true,\"ticks\":\"\",\"zerolinecolor\":\"white\"},\"zaxis\":{\"backgroundcolor\":\"#E5ECF6\",\"gridcolor\":\"white\",\"gridwidth\":2,\"linecolor\":\"white\",\"showbackground\":true,\"ticks\":\"\",\"zerolinecolor\":\"white\"}},\"shapedefaults\":{\"line\":{\"color\":\"#2a3f5f\"}},\"ternary\":{\"aaxis\":{\"gridcolor\":\"white\",\"linecolor\":\"white\",\"ticks\":\"\"},\"baxis\":{\"gridcolor\":\"white\",\"linecolor\":\"white\",\"ticks\":\"\"},\"bgcolor\":\"#E5ECF6\",\"caxis\":{\"gridcolor\":\"white\",\"linecolor\":\"white\",\"ticks\":\"\"}},\"title\":{\"x\":0.05},\"xaxis\":{\"automargin\":true,\"gridcolor\":\"white\",\"linecolor\":\"white\",\"ticks\":\"\",\"title\":{\"standoff\":15},\"zerolinecolor\":\"white\",\"zerolinewidth\":2},\"yaxis\":{\"automargin\":true,\"gridcolor\":\"white\",\"linecolor\":\"white\",\"ticks\":\"\",\"title\":{\"standoff\":15},\"zerolinecolor\":\"white\",\"zerolinewidth\":2}}},\"coloraxis\":{\"colorbar\":{\"title\":{\"text\":\"conversion_rate\"}},\"colorscale\":[[0.0,\"rgb(103,0,31)\"],[0.1,\"rgb(178,24,43)\"],[0.2,\"rgb(214,96,77)\"],[0.3,\"rgb(244,165,130)\"],[0.4,\"rgb(253,219,199)\"],[0.5,\"rgb(247,247,247)\"],[0.6,\"rgb(209,229,240)\"],[0.7,\"rgb(146,197,222)\"],[0.8,\"rgb(67,147,195)\"],[0.9,\"rgb(33,102,172)\"],[1.0,\"rgb(5,48,97)\"]]},\"legend\":{\"tracegroupgap\":0},\"margin\":{\"t\":30,\"l\":15,\"r\":15,\"b\":15}},                        {\"responsive\": true}                    ).then(function(){\n",
              "                            \n",
              "var gd = document.getElementById('3c51e3c2-1aac-4625-9043-d571bffac5fc');\n",
              "var x = new MutationObserver(function (mutations, observer) {{\n",
              "        var display = window.getComputedStyle(gd).display;\n",
              "        if (!display || display === 'none') {{\n",
              "            console.log([gd, 'removed!']);\n",
              "            Plotly.purge(gd);\n",
              "            observer.disconnect();\n",
              "        }}\n",
              "}});\n",
              "\n",
              "// Listen for the removal of the full notebook cells\n",
              "var notebookContainer = gd.closest('#notebook-container');\n",
              "if (notebookContainer) {{\n",
              "    x.observe(notebookContainer, {childList: true});\n",
              "}}\n",
              "\n",
              "// Listen for the clearing of the current output cell\n",
              "var outputEl = gd.closest('.output');\n",
              "if (outputEl) {{\n",
              "    x.observe(outputEl, {childList: true});\n",
              "}}\n",
              "\n",
              "                        })                };                            </script>        </div>\n",
              "</body>\n",
              "</html>"
            ]
          },
          "metadata": {}
        }
      ],
      "source": [
        "import plotly.express as px\n",
        "df_stack = df_stack[df_stack['Totals']!=0]\n",
        "fig = px.treemap(df_stack, path=['marital', 'age_range'], values='Totals',\\\n",
        "                 color = 'conversion_rate',color_continuous_scale='RdBu')\n",
        "fig.update_traces(root_color=\"lightgrey\")\n",
        "fig.update_layout(margin = dict(t=30, l=15, r=15, b=15))\n",
        "fig.show()\n"
      ],
      "id": "3278b36f"
    },
    {
      "cell_type": "markdown",
      "source": [
        "Tỷ lệ chuyển đổi ở cả 3 tình trạng hôn nhân là độc thân, đã kết hôn hay li dị đều cao từ độ tuổi từ 66 tuổi trở lên. Tuy nhiên nhóm khách hàng trong độ tuổi này tương đối ít. Do đó cần tập trung mở rộng số lượng khách hàng trong độ tuổi này"
      ],
      "metadata": {
        "id": "xze1EO_NaPTW"
      },
      "id": "xze1EO_NaPTW"
    },
    {
      "cell_type": "code",
      "source": [
        "df_0=df.copy()"
      ],
      "metadata": {
        "id": "u10wQ2qdOyI7"
      },
      "id": "u10wQ2qdOyI7",
      "execution_count": 162,
      "outputs": []
    },
    {
      "cell_type": "code",
      "execution_count": 163,
      "metadata": {
        "id": "PqlTJZEEW1oX",
        "colab": {
          "base_uri": "https://localhost:8080/"
        },
        "outputId": "27278152-776e-48b7-bc20-1e478b652e89"
      },
      "outputs": [
        {
          "output_type": "stream",
          "name": "stdout",
          "text": [
            "<class 'pandas.core.frame.DataFrame'>\n",
            "Int64Index: 41176 entries, 0 to 41187\n",
            "Data columns (total 23 columns):\n",
            " #   Column          Non-Null Count  Dtype  \n",
            "---  ------          --------------  -----  \n",
            " 0   age             41176 non-null  int64  \n",
            " 1   job             40846 non-null  object \n",
            " 2   marital         41096 non-null  object \n",
            " 3   education       39446 non-null  object \n",
            " 4   default         32580 non-null  object \n",
            " 5   housing         40186 non-null  object \n",
            " 6   loan            40186 non-null  object \n",
            " 7   contact         41176 non-null  object \n",
            " 8   month           41176 non-null  object \n",
            " 9   day_of_week     41176 non-null  object \n",
            " 10  duration        41176 non-null  int64  \n",
            " 11  campaign        41176 non-null  int64  \n",
            " 12  pdays           41176 non-null  int64  \n",
            " 13  previous        41176 non-null  int64  \n",
            " 14  poutcome        41176 non-null  object \n",
            " 15  emp.var.rate    41176 non-null  float64\n",
            " 16  cons.price.idx  41176 non-null  float64\n",
            " 17  cons.conf.idx   41176 non-null  float64\n",
            " 18  euribor3m       41176 non-null  float64\n",
            " 19  nr.employed     41176 non-null  float64\n",
            " 20  y               41176 non-null  object \n",
            " 21  conversion      41176 non-null  int64  \n",
            " 22  age_range       41176 non-null  object \n",
            "dtypes: float64(5), int64(6), object(12)\n",
            "memory usage: 8.5+ MB\n"
          ]
        }
      ],
      "source": [
        "df_0.info()"
      ],
      "id": "PqlTJZEEW1oX"
    },
    {
      "cell_type": "code",
      "execution_count": 164,
      "metadata": {
        "id": "yiq1eRB9W2d7"
      },
      "outputs": [],
      "source": [
        "df_0=df_0.dropna(subset=['education',\"job\",\"loan\"])\n"
      ],
      "id": "yiq1eRB9W2d7"
    },
    {
      "cell_type": "code",
      "execution_count": 165,
      "metadata": {
        "id": "AnV0hPJpXC_m",
        "colab": {
          "base_uri": "https://localhost:8080/"
        },
        "outputId": "f441d77d-de57-4820-9439-7247c2c67d84"
      },
      "outputs": [
        {
          "output_type": "stream",
          "name": "stdout",
          "text": [
            "<class 'pandas.core.frame.DataFrame'>\n",
            "Int64Index: 38300 entries, 0 to 41187\n",
            "Data columns (total 23 columns):\n",
            " #   Column          Non-Null Count  Dtype  \n",
            "---  ------          --------------  -----  \n",
            " 0   age             38300 non-null  int64  \n",
            " 1   job             38300 non-null  object \n",
            " 2   marital         38234 non-null  object \n",
            " 3   education       38300 non-null  object \n",
            " 4   default         30537 non-null  object \n",
            " 5   housing         38300 non-null  object \n",
            " 6   loan            38300 non-null  object \n",
            " 7   contact         38300 non-null  object \n",
            " 8   month           38300 non-null  object \n",
            " 9   day_of_week     38300 non-null  object \n",
            " 10  duration        38300 non-null  int64  \n",
            " 11  campaign        38300 non-null  int64  \n",
            " 12  pdays           38300 non-null  int64  \n",
            " 13  previous        38300 non-null  int64  \n",
            " 14  poutcome        38300 non-null  object \n",
            " 15  emp.var.rate    38300 non-null  float64\n",
            " 16  cons.price.idx  38300 non-null  float64\n",
            " 17  cons.conf.idx   38300 non-null  float64\n",
            " 18  euribor3m       38300 non-null  float64\n",
            " 19  nr.employed     38300 non-null  float64\n",
            " 20  y               38300 non-null  object \n",
            " 21  conversion      38300 non-null  int64  \n",
            " 22  age_range       38300 non-null  object \n",
            "dtypes: float64(5), int64(6), object(12)\n",
            "memory usage: 7.0+ MB\n"
          ]
        }
      ],
      "source": [
        "df_0.info()"
      ],
      "id": "AnV0hPJpXC_m"
    },
    {
      "cell_type": "markdown",
      "metadata": {
        "id": "MhLqJA1jOQE7"
      },
      "source": [
        "# **Does job titles affect conversion rate?**"
      ],
      "id": "MhLqJA1jOQE7"
    },
    {
      "cell_type": "code",
      "execution_count": 166,
      "metadata": {
        "id": "cVQaUierPRFA",
        "colab": {
          "base_uri": "https://localhost:8080/"
        },
        "outputId": "85687e4a-847d-4b73-bfc5-c4a6fb3e624f"
      },
      "outputs": [
        {
          "output_type": "execute_result",
          "data": {
            "text/plain": [
              "0"
            ]
          },
          "metadata": {},
          "execution_count": 166
        }
      ],
      "source": [
        "df_0[\"job\"].isnull().sum()"
      ],
      "id": "cVQaUierPRFA"
    },
    {
      "cell_type": "code",
      "execution_count": 167,
      "metadata": {
        "id": "OYKM9XDCPgGJ"
      },
      "outputs": [],
      "source": [
        "conversion_by_job = pd.pivot_table(df_0,values='y',index='job',columns='conversion',aggfunc=len)"
      ],
      "id": "OYKM9XDCPgGJ"
    },
    {
      "cell_type": "code",
      "execution_count": 168,
      "metadata": {
        "id": "FHlyu1VWUIBy"
      },
      "outputs": [],
      "source": [
        "conversion_by_job['Total'] = conversion_by_job.sum(axis=1)"
      ],
      "id": "FHlyu1VWUIBy"
    },
    {
      "cell_type": "code",
      "execution_count": 169,
      "metadata": {
        "id": "Xug5AMEYT7rN",
        "colab": {
          "base_uri": "https://localhost:8080/",
          "height": 426
        },
        "outputId": "6e93faa4-ba4a-4d73-8b70-dafc45e67ac5"
      },
      "outputs": [
        {
          "output_type": "execute_result",
          "data": {
            "text/html": [
              "\n",
              "  <div id=\"df-53fdfab3-aaeb-4569-9630-ec26b26021ad\">\n",
              "    <div class=\"colab-df-container\">\n",
              "      <div>\n",
              "<style scoped>\n",
              "    .dataframe tbody tr th:only-of-type {\n",
              "        vertical-align: middle;\n",
              "    }\n",
              "\n",
              "    .dataframe tbody tr th {\n",
              "        vertical-align: top;\n",
              "    }\n",
              "\n",
              "    .dataframe thead th {\n",
              "        text-align: right;\n",
              "    }\n",
              "</style>\n",
              "<table border=\"1\" class=\"dataframe\">\n",
              "  <thead>\n",
              "    <tr style=\"text-align: right;\">\n",
              "      <th>conversion</th>\n",
              "      <th>0</th>\n",
              "      <th>1</th>\n",
              "      <th>Total</th>\n",
              "    </tr>\n",
              "    <tr>\n",
              "      <th>job</th>\n",
              "      <th></th>\n",
              "      <th></th>\n",
              "      <th></th>\n",
              "    </tr>\n",
              "  </thead>\n",
              "  <tbody>\n",
              "    <tr>\n",
              "      <th>admin.</th>\n",
              "      <td>8664</td>\n",
              "      <td>1284</td>\n",
              "      <td>9948</td>\n",
              "    </tr>\n",
              "    <tr>\n",
              "      <th>blue-collar</th>\n",
              "      <td>7972</td>\n",
              "      <td>598</td>\n",
              "      <td>8570</td>\n",
              "    </tr>\n",
              "    <tr>\n",
              "      <th>entrepreneur</th>\n",
              "      <td>1246</td>\n",
              "      <td>117</td>\n",
              "      <td>1363</td>\n",
              "    </tr>\n",
              "    <tr>\n",
              "      <th>housemaid</th>\n",
              "      <td>892</td>\n",
              "      <td>98</td>\n",
              "      <td>990</td>\n",
              "    </tr>\n",
              "    <tr>\n",
              "      <th>management</th>\n",
              "      <td>2427</td>\n",
              "      <td>304</td>\n",
              "      <td>2731</td>\n",
              "    </tr>\n",
              "    <tr>\n",
              "      <th>retired</th>\n",
              "      <td>1190</td>\n",
              "      <td>391</td>\n",
              "      <td>1581</td>\n",
              "    </tr>\n",
              "    <tr>\n",
              "      <th>self-employed</th>\n",
              "      <td>1208</td>\n",
              "      <td>146</td>\n",
              "      <td>1354</td>\n",
              "    </tr>\n",
              "    <tr>\n",
              "      <th>services</th>\n",
              "      <td>3422</td>\n",
              "      <td>297</td>\n",
              "      <td>3719</td>\n",
              "    </tr>\n",
              "    <tr>\n",
              "      <th>student</th>\n",
              "      <td>481</td>\n",
              "      <td>208</td>\n",
              "      <td>689</td>\n",
              "    </tr>\n",
              "    <tr>\n",
              "      <th>technician</th>\n",
              "      <td>5702</td>\n",
              "      <td>685</td>\n",
              "      <td>6387</td>\n",
              "    </tr>\n",
              "    <tr>\n",
              "      <th>unemployed</th>\n",
              "      <td>830</td>\n",
              "      <td>138</td>\n",
              "      <td>968</td>\n",
              "    </tr>\n",
              "  </tbody>\n",
              "</table>\n",
              "</div>\n",
              "      <button class=\"colab-df-convert\" onclick=\"convertToInteractive('df-53fdfab3-aaeb-4569-9630-ec26b26021ad')\"\n",
              "              title=\"Convert this dataframe to an interactive table.\"\n",
              "              style=\"display:none;\">\n",
              "        \n",
              "  <svg xmlns=\"http://www.w3.org/2000/svg\" height=\"24px\"viewBox=\"0 0 24 24\"\n",
              "       width=\"24px\">\n",
              "    <path d=\"M0 0h24v24H0V0z\" fill=\"none\"/>\n",
              "    <path d=\"M18.56 5.44l.94 2.06.94-2.06 2.06-.94-2.06-.94-.94-2.06-.94 2.06-2.06.94zm-11 1L8.5 8.5l.94-2.06 2.06-.94-2.06-.94L8.5 2.5l-.94 2.06-2.06.94zm10 10l.94 2.06.94-2.06 2.06-.94-2.06-.94-.94-2.06-.94 2.06-2.06.94z\"/><path d=\"M17.41 7.96l-1.37-1.37c-.4-.4-.92-.59-1.43-.59-.52 0-1.04.2-1.43.59L10.3 9.45l-7.72 7.72c-.78.78-.78 2.05 0 2.83L4 21.41c.39.39.9.59 1.41.59.51 0 1.02-.2 1.41-.59l7.78-7.78 2.81-2.81c.8-.78.8-2.07 0-2.86zM5.41 20L4 18.59l7.72-7.72 1.47 1.35L5.41 20z\"/>\n",
              "  </svg>\n",
              "      </button>\n",
              "      \n",
              "  <style>\n",
              "    .colab-df-container {\n",
              "      display:flex;\n",
              "      flex-wrap:wrap;\n",
              "      gap: 12px;\n",
              "    }\n",
              "\n",
              "    .colab-df-convert {\n",
              "      background-color: #E8F0FE;\n",
              "      border: none;\n",
              "      border-radius: 50%;\n",
              "      cursor: pointer;\n",
              "      display: none;\n",
              "      fill: #1967D2;\n",
              "      height: 32px;\n",
              "      padding: 0 0 0 0;\n",
              "      width: 32px;\n",
              "    }\n",
              "\n",
              "    .colab-df-convert:hover {\n",
              "      background-color: #E2EBFA;\n",
              "      box-shadow: 0px 1px 2px rgba(60, 64, 67, 0.3), 0px 1px 3px 1px rgba(60, 64, 67, 0.15);\n",
              "      fill: #174EA6;\n",
              "    }\n",
              "\n",
              "    [theme=dark] .colab-df-convert {\n",
              "      background-color: #3B4455;\n",
              "      fill: #D2E3FC;\n",
              "    }\n",
              "\n",
              "    [theme=dark] .colab-df-convert:hover {\n",
              "      background-color: #434B5C;\n",
              "      box-shadow: 0px 1px 3px 1px rgba(0, 0, 0, 0.15);\n",
              "      filter: drop-shadow(0px 1px 2px rgba(0, 0, 0, 0.3));\n",
              "      fill: #FFFFFF;\n",
              "    }\n",
              "  </style>\n",
              "\n",
              "      <script>\n",
              "        const buttonEl =\n",
              "          document.querySelector('#df-53fdfab3-aaeb-4569-9630-ec26b26021ad button.colab-df-convert');\n",
              "        buttonEl.style.display =\n",
              "          google.colab.kernel.accessAllowed ? 'block' : 'none';\n",
              "\n",
              "        async function convertToInteractive(key) {\n",
              "          const element = document.querySelector('#df-53fdfab3-aaeb-4569-9630-ec26b26021ad');\n",
              "          const dataTable =\n",
              "            await google.colab.kernel.invokeFunction('convertToInteractive',\n",
              "                                                     [key], {});\n",
              "          if (!dataTable) return;\n",
              "\n",
              "          const docLinkHtml = 'Like what you see? Visit the ' +\n",
              "            '<a target=\"_blank\" href=https://colab.research.google.com/notebooks/data_table.ipynb>data table notebook</a>'\n",
              "            + ' to learn more about interactive tables.';\n",
              "          element.innerHTML = '';\n",
              "          dataTable['output_type'] = 'display_data';\n",
              "          await google.colab.output.renderOutput(dataTable, element);\n",
              "          const docLink = document.createElement('div');\n",
              "          docLink.innerHTML = docLinkHtml;\n",
              "          element.appendChild(docLink);\n",
              "        }\n",
              "      </script>\n",
              "    </div>\n",
              "  </div>\n",
              "  "
            ],
            "text/plain": [
              "conversion        0     1  Total\n",
              "job                             \n",
              "admin.         8664  1284   9948\n",
              "blue-collar    7972   598   8570\n",
              "entrepreneur   1246   117   1363\n",
              "housemaid       892    98    990\n",
              "management     2427   304   2731\n",
              "retired        1190   391   1581\n",
              "self-employed  1208   146   1354\n",
              "services       3422   297   3719\n",
              "student         481   208    689\n",
              "technician     5702   685   6387\n",
              "unemployed      830   138    968"
            ]
          },
          "metadata": {},
          "execution_count": 169
        }
      ],
      "source": [
        "conversion_by_job"
      ],
      "id": "Xug5AMEYT7rN"
    },
    {
      "cell_type": "code",
      "execution_count": 170,
      "metadata": {
        "id": "iwttoXM4u7B_",
        "colab": {
          "base_uri": "https://localhost:8080/",
          "height": 293
        },
        "outputId": "b7b40679-0e95-4469-9d17-2717830d72fa"
      },
      "outputs": [
        {
          "output_type": "display_data",
          "data": {
            "image/png": "[encoded data removed]",
            "text/plain": [
              "<Figure size 1008x288 with 1 Axes>"
            ]
          },
          "metadata": {}
        }
      ],
      "source": [
        "plt.figure(figsize=[14,4])\n",
        "sns.countplot(x='job', hue='y',edgecolor=\"black\", alpha=0.7, data=df_0)\n",
        "sns.despine()\n",
        "plt.title(\"Count-plot of job by conversion\")\n",
        "plt.grid()   # grid: hệ thống đường kẻ\n",
        "plt.tight_layout()\n",
        "plt.show()"
      ],
      "id": "iwttoXM4u7B_"
    },
    {
      "cell_type": "code",
      "execution_count": 171,
      "metadata": {
        "id": "Ic3rbnRkT-N9",
        "colab": {
          "base_uri": "https://localhost:8080/",
          "height": 320
        },
        "outputId": "8aef5af0-89da-43e3-8afc-2312570bf72f"
      },
      "outputs": [
        {
          "output_type": "display_data",
          "data": {
            "image/png": "[encoded data removed]",
            "text/plain": [
              "<Figure size 576x360 with 1 Axes>"
            ]
          },
          "metadata": {}
        }
      ],
      "source": [
        "conversion_by_job = conversion_by_job[[1,0]]\n",
        "ax = conversion_by_job.div(conversion_by_job\\\n",
        "                                .sum(axis=1),axis=0).plot(kind='barh',stacked=True,figsize=[8,5],color=['green','yellow'])\n",
        "ax.get_legend().remove()####remove the legend. We can you also ax.get_legend().set_visible(False)\n",
        "plt.vlines(0.1127,-0.7,len(conversion_by_job),color='grey')\n",
        "for p in ax.patches:\n",
        "    width, height = p.get_width(), p.get_height()\n",
        "    x, y = p.get_xy()\n",
        "    ax.annotate('{:.1%}'.format(width),(x+0.05,y+0.05))"
      ],
      "id": "Ic3rbnRkT-N9"
    },
    {
      "cell_type": "markdown",
      "metadata": {
        "id": "rwfHiE1qGEpX"
      },
      "source": [
        " tỷ lệ đồng ý đăng kí gửi tiền tiết kiệm ở tất cả các nghề đều thấp hơn so với lượng người từ chối không đăng kí. Tuy nhiên đối với những người là Học sinh-sinh viên và nghỉ hưu có khả năng đồng ý đăng kí khá cao. Nguyên nhân là do đối với người già thì mục tiêu chính của họ là gửi tiết kiệm để an hưởng tuổi già và gửi tiền không kì hạn tuy lãi thấp nhưng lại là khoản đầu tư an toàn nhất. Đối với những người trẻ là học sinh sinh viên thì thường không có đủ tiền hoặc kiến thức chuyên môn để đầu tư vào những khoản đầu tư phức tạp, do vậy gửi tiền không kì hạn là cách đầu tư an toàn cho những đối tượng này. Do đó ngân hàng nên tập trung vào những khách hàng trẻ tuổi là học sinh sinh viên và người già\n"
      ],
      "id": "rwfHiE1qGEpX"
    },
    {
      "cell_type": "markdown",
      "metadata": {
        "id": "FcUbw9vy4V2A"
      },
      "source": [
        "#**Does education titles affect conversion rate?** "
      ],
      "id": "FcUbw9vy4V2A"
    },
    {
      "cell_type": "code",
      "source": [
        "conversion_by_edu= pd.pivot_table(df_0,values='y',index='education',columns='conversion',aggfunc=len)\n",
        "conversion_by_edu"
      ],
      "metadata": {
        "id": "8VU2gIOzrtcx",
        "colab": {
          "base_uri": "https://localhost:8080/",
          "height": 300
        },
        "outputId": "76db6824-a0a4-428e-80b8-18c74c09f8fb"
      },
      "id": "8VU2gIOzrtcx",
      "execution_count": 172,
      "outputs": [
        {
          "output_type": "execute_result",
          "data": {
            "text/html": [
              "\n",
              "  <div id=\"df-3d207fde-e965-44cd-acad-8042e999902a\">\n",
              "    <div class=\"colab-df-container\">\n",
              "      <div>\n",
              "<style scoped>\n",
              "    .dataframe tbody tr th:only-of-type {\n",
              "        vertical-align: middle;\n",
              "    }\n",
              "\n",
              "    .dataframe tbody tr th {\n",
              "        vertical-align: top;\n",
              "    }\n",
              "\n",
              "    .dataframe thead th {\n",
              "        text-align: right;\n",
              "    }\n",
              "</style>\n",
              "<table border=\"1\" class=\"dataframe\">\n",
              "  <thead>\n",
              "    <tr style=\"text-align: right;\">\n",
              "      <th>conversion</th>\n",
              "      <th>0</th>\n",
              "      <th>1</th>\n",
              "    </tr>\n",
              "    <tr>\n",
              "      <th>education</th>\n",
              "      <th></th>\n",
              "      <th></th>\n",
              "    </tr>\n",
              "  </thead>\n",
              "  <tbody>\n",
              "    <tr>\n",
              "      <th>basic.4y</th>\n",
              "      <td>3594</td>\n",
              "      <td>413</td>\n",
              "    </tr>\n",
              "    <tr>\n",
              "      <th>basic.6y</th>\n",
              "      <td>2029</td>\n",
              "      <td>180</td>\n",
              "    </tr>\n",
              "    <tr>\n",
              "      <th>basic.9y</th>\n",
              "      <td>5405</td>\n",
              "      <td>459</td>\n",
              "    </tr>\n",
              "    <tr>\n",
              "      <th>high.school</th>\n",
              "      <td>8247</td>\n",
              "      <td>1008</td>\n",
              "    </tr>\n",
              "    <tr>\n",
              "      <th>illiterate</th>\n",
              "      <td>14</td>\n",
              "      <td>4</td>\n",
              "    </tr>\n",
              "    <tr>\n",
              "      <th>professional.course</th>\n",
              "      <td>4525</td>\n",
              "      <td>578</td>\n",
              "    </tr>\n",
              "    <tr>\n",
              "      <th>university.degree</th>\n",
              "      <td>10220</td>\n",
              "      <td>1624</td>\n",
              "    </tr>\n",
              "  </tbody>\n",
              "</table>\n",
              "</div>\n",
              "      <button class=\"colab-df-convert\" onclick=\"convertToInteractive('df-3d207fde-e965-44cd-acad-8042e999902a')\"\n",
              "              title=\"Convert this dataframe to an interactive table.\"\n",
              "              style=\"display:none;\">\n",
              "        \n",
              "  <svg xmlns=\"http://www.w3.org/2000/svg\" height=\"24px\"viewBox=\"0 0 24 24\"\n",
              "       width=\"24px\">\n",
              "    <path d=\"M0 0h24v24H0V0z\" fill=\"none\"/>\n",
              "    <path d=\"M18.56 5.44l.94 2.06.94-2.06 2.06-.94-2.06-.94-.94-2.06-.94 2.06-2.06.94zm-11 1L8.5 8.5l.94-2.06 2.06-.94-2.06-.94L8.5 2.5l-.94 2.06-2.06.94zm10 10l.94 2.06.94-2.06 2.06-.94-2.06-.94-.94-2.06-.94 2.06-2.06.94z\"/><path d=\"M17.41 7.96l-1.37-1.37c-.4-.4-.92-.59-1.43-.59-.52 0-1.04.2-1.43.59L10.3 9.45l-7.72 7.72c-.78.78-.78 2.05 0 2.83L4 21.41c.39.39.9.59 1.41.59.51 0 1.02-.2 1.41-.59l7.78-7.78 2.81-2.81c.8-.78.8-2.07 0-2.86zM5.41 20L4 18.59l7.72-7.72 1.47 1.35L5.41 20z\"/>\n",
              "  </svg>\n",
              "      </button>\n",
              "      \n",
              "  <style>\n",
              "    .colab-df-container {\n",
              "      display:flex;\n",
              "      flex-wrap:wrap;\n",
              "      gap: 12px;\n",
              "    }\n",
              "\n",
              "    .colab-df-convert {\n",
              "      background-color: #E8F0FE;\n",
              "      border: none;\n",
              "      border-radius: 50%;\n",
              "      cursor: pointer;\n",
              "      display: none;\n",
              "      fill: #1967D2;\n",
              "      height: 32px;\n",
              "      padding: 0 0 0 0;\n",
              "      width: 32px;\n",
              "    }\n",
              "\n",
              "    .colab-df-convert:hover {\n",
              "      background-color: #E2EBFA;\n",
              "      box-shadow: 0px 1px 2px rgba(60, 64, 67, 0.3), 0px 1px 3px 1px rgba(60, 64, 67, 0.15);\n",
              "      fill: #174EA6;\n",
              "    }\n",
              "\n",
              "    [theme=dark] .colab-df-convert {\n",
              "      background-color: #3B4455;\n",
              "      fill: #D2E3FC;\n",
              "    }\n",
              "\n",
              "    [theme=dark] .colab-df-convert:hover {\n",
              "      background-color: #434B5C;\n",
              "      box-shadow: 0px 1px 3px 1px rgba(0, 0, 0, 0.15);\n",
              "      filter: drop-shadow(0px 1px 2px rgba(0, 0, 0, 0.3));\n",
              "      fill: #FFFFFF;\n",
              "    }\n",
              "  </style>\n",
              "\n",
              "      <script>\n",
              "        const buttonEl =\n",
              "          document.querySelector('#df-3d207fde-e965-44cd-acad-8042e999902a button.colab-df-convert');\n",
              "        buttonEl.style.display =\n",
              "          google.colab.kernel.accessAllowed ? 'block' : 'none';\n",
              "\n",
              "        async function convertToInteractive(key) {\n",
              "          const element = document.querySelector('#df-3d207fde-e965-44cd-acad-8042e999902a');\n",
              "          const dataTable =\n",
              "            await google.colab.kernel.invokeFunction('convertToInteractive',\n",
              "                                                     [key], {});\n",
              "          if (!dataTable) return;\n",
              "\n",
              "          const docLinkHtml = 'Like what you see? Visit the ' +\n",
              "            '<a target=\"_blank\" href=https://colab.research.google.com/notebooks/data_table.ipynb>data table notebook</a>'\n",
              "            + ' to learn more about interactive tables.';\n",
              "          element.innerHTML = '';\n",
              "          dataTable['output_type'] = 'display_data';\n",
              "          await google.colab.output.renderOutput(dataTable, element);\n",
              "          const docLink = document.createElement('div');\n",
              "          docLink.innerHTML = docLinkHtml;\n",
              "          element.appendChild(docLink);\n",
              "        }\n",
              "      </script>\n",
              "    </div>\n",
              "  </div>\n",
              "  "
            ],
            "text/plain": [
              "conversion               0     1\n",
              "education                       \n",
              "basic.4y              3594   413\n",
              "basic.6y              2029   180\n",
              "basic.9y              5405   459\n",
              "high.school           8247  1008\n",
              "illiterate              14     4\n",
              "professional.course   4525   578\n",
              "university.degree    10220  1624"
            ]
          },
          "metadata": {},
          "execution_count": 172
        }
      ]
    },
    {
      "cell_type": "code",
      "execution_count": 173,
      "metadata": {
        "id": "mAzWWNITtaSs",
        "colab": {
          "base_uri": "https://localhost:8080/",
          "height": 293
        },
        "outputId": "a5450f02-5618-4c16-9747-acf05265bb4e"
      },
      "outputs": [
        {
          "output_type": "display_data",
          "data": {
            "image/png": "[encoded data removed]",
            "text/plain": [
              "<Figure size 1008x288 with 1 Axes>"
            ]
          },
          "metadata": {}
        }
      ],
      "source": [
        "plt.figure(figsize=[14,4])\n",
        "sns.countplot(x='education', hue='y',edgecolor=\"black\", alpha=0.7, data=df_0)\n",
        "sns.despine()\n",
        "#plt.title(\"Count-plot of job by conversion\")\n",
        "plt.grid()   # grid: hệ thống đường kẻ\n",
        "plt.tight_layout()\n",
        "plt.show()"
      ],
      "id": "mAzWWNITtaSs"
    },
    {
      "cell_type": "code",
      "execution_count": 174,
      "metadata": {
        "id": "TrM-jefC9me1",
        "colab": {
          "base_uri": "https://localhost:8080/",
          "height": 428
        },
        "outputId": "b23b96e6-3d2a-4e6c-be48-6bcd5cfea40e"
      },
      "outputs": [
        {
          "output_type": "display_data",
          "data": {
            "image/png": "[encoded data removed]",
            "text/plain": [
              "<Figure size 720x504 with 1 Axes>"
            ]
          },
          "metadata": {}
        }
      ],
      "source": [
        "conversion_by_edu = conversion_by_edu[[1,0]]\n",
        "ax = conversion_by_edu.div(conversion_by_edu\\\n",
        "                                .sum(axis=1),axis=0).plot(kind='barh',stacked=True,figsize=[10,7],color=['green','yellow'])\n",
        "ax.get_legend().remove()####remove the legend. We can you also ax.get_legend().set_visible(False)\n",
        "plt.vlines(0.1127,-0.7,len(conversion_by_edu),color='grey')\n",
        "for p in ax.patches:\n",
        "    width, height = p.get_width(), p.get_height()\n",
        "    x, y = p.get_xy()\n",
        "    ax.annotate('{:.1%}'.format(width),(x+0.05,y+0.05))"
      ],
      "id": "TrM-jefC9me1"
    },
    {
      "cell_type": "markdown",
      "metadata": {
        "id": "aZ92OFb43SqH"
      },
      "source": [
        "Biểu đồ cho thấy dù ở bất cứ trình độ giáo dục nào thì lượng khách hàng đồng ý mở tài khoản đều rất thấp. Tỉ lệ đồng ý đăng kí của nhóm illiterate cao hơn so với những nhóm khác tuy nhiên số lượng khách hàng ở nhóm này quá ít (18 khách hàng). Có thể thấy phần lớn trình độ giáo dục không ảnh hưởng nhiều đến việc đăng kí của khách hàng"
      ],
      "id": "aZ92OFb43SqH"
    },
    {
      "cell_type": "markdown",
      "metadata": {
        "id": "xaO7SHaG-eX-"
      },
      "source": [
        "# **Is conversion rate higher in the group having loan**"
      ],
      "id": "xaO7SHaG-eX-"
    },
    {
      "cell_type": "code",
      "execution_count": 175,
      "metadata": {
        "id": "RAZXX3UABAWY",
        "colab": {
          "base_uri": "https://localhost:8080/",
          "height": 143
        },
        "outputId": "7c3480e3-a5c8-47cf-f74c-75ea07a9c844"
      },
      "outputs": [
        {
          "output_type": "execute_result",
          "data": {
            "text/html": [
              "\n",
              "  <div id=\"df-967b059c-bfb1-4b5d-8540-6f3835291cd5\">\n",
              "    <div class=\"colab-df-container\">\n",
              "      <div>\n",
              "<style scoped>\n",
              "    .dataframe tbody tr th:only-of-type {\n",
              "        vertical-align: middle;\n",
              "    }\n",
              "\n",
              "    .dataframe tbody tr th {\n",
              "        vertical-align: top;\n",
              "    }\n",
              "\n",
              "    .dataframe thead th {\n",
              "        text-align: right;\n",
              "    }\n",
              "</style>\n",
              "<table border=\"1\" class=\"dataframe\">\n",
              "  <thead>\n",
              "    <tr style=\"text-align: right;\">\n",
              "      <th>conversion</th>\n",
              "      <th>0</th>\n",
              "      <th>1</th>\n",
              "      <th>Total</th>\n",
              "    </tr>\n",
              "    <tr>\n",
              "      <th>loan</th>\n",
              "      <th></th>\n",
              "      <th></th>\n",
              "      <th></th>\n",
              "    </tr>\n",
              "  </thead>\n",
              "  <tbody>\n",
              "    <tr>\n",
              "      <th>no</th>\n",
              "      <td>28706</td>\n",
              "      <td>3627</td>\n",
              "      <td>32333</td>\n",
              "    </tr>\n",
              "    <tr>\n",
              "      <th>yes</th>\n",
              "      <td>5328</td>\n",
              "      <td>639</td>\n",
              "      <td>5967</td>\n",
              "    </tr>\n",
              "  </tbody>\n",
              "</table>\n",
              "</div>\n",
              "      <button class=\"colab-df-convert\" onclick=\"convertToInteractive('df-967b059c-bfb1-4b5d-8540-6f3835291cd5')\"\n",
              "              title=\"Convert this dataframe to an interactive table.\"\n",
              "              style=\"display:none;\">\n",
              "        \n",
              "  <svg xmlns=\"http://www.w3.org/2000/svg\" height=\"24px\"viewBox=\"0 0 24 24\"\n",
              "       width=\"24px\">\n",
              "    <path d=\"M0 0h24v24H0V0z\" fill=\"none\"/>\n",
              "    <path d=\"M18.56 5.44l.94 2.06.94-2.06 2.06-.94-2.06-.94-.94-2.06-.94 2.06-2.06.94zm-11 1L8.5 8.5l.94-2.06 2.06-.94-2.06-.94L8.5 2.5l-.94 2.06-2.06.94zm10 10l.94 2.06.94-2.06 2.06-.94-2.06-.94-.94-2.06-.94 2.06-2.06.94z\"/><path d=\"M17.41 7.96l-1.37-1.37c-.4-.4-.92-.59-1.43-.59-.52 0-1.04.2-1.43.59L10.3 9.45l-7.72 7.72c-.78.78-.78 2.05 0 2.83L4 21.41c.39.39.9.59 1.41.59.51 0 1.02-.2 1.41-.59l7.78-7.78 2.81-2.81c.8-.78.8-2.07 0-2.86zM5.41 20L4 18.59l7.72-7.72 1.47 1.35L5.41 20z\"/>\n",
              "  </svg>\n",
              "      </button>\n",
              "      \n",
              "  <style>\n",
              "    .colab-df-container {\n",
              "      display:flex;\n",
              "      flex-wrap:wrap;\n",
              "      gap: 12px;\n",
              "    }\n",
              "\n",
              "    .colab-df-convert {\n",
              "      background-color: #E8F0FE;\n",
              "      border: none;\n",
              "      border-radius: 50%;\n",
              "      cursor: pointer;\n",
              "      display: none;\n",
              "      fill: #1967D2;\n",
              "      height: 32px;\n",
              "      padding: 0 0 0 0;\n",
              "      width: 32px;\n",
              "    }\n",
              "\n",
              "    .colab-df-convert:hover {\n",
              "      background-color: #E2EBFA;\n",
              "      box-shadow: 0px 1px 2px rgba(60, 64, 67, 0.3), 0px 1px 3px 1px rgba(60, 64, 67, 0.15);\n",
              "      fill: #174EA6;\n",
              "    }\n",
              "\n",
              "    [theme=dark] .colab-df-convert {\n",
              "      background-color: #3B4455;\n",
              "      fill: #D2E3FC;\n",
              "    }\n",
              "\n",
              "    [theme=dark] .colab-df-convert:hover {\n",
              "      background-color: #434B5C;\n",
              "      box-shadow: 0px 1px 3px 1px rgba(0, 0, 0, 0.15);\n",
              "      filter: drop-shadow(0px 1px 2px rgba(0, 0, 0, 0.3));\n",
              "      fill: #FFFFFF;\n",
              "    }\n",
              "  </style>\n",
              "\n",
              "      <script>\n",
              "        const buttonEl =\n",
              "          document.querySelector('#df-967b059c-bfb1-4b5d-8540-6f3835291cd5 button.colab-df-convert');\n",
              "        buttonEl.style.display =\n",
              "          google.colab.kernel.accessAllowed ? 'block' : 'none';\n",
              "\n",
              "        async function convertToInteractive(key) {\n",
              "          const element = document.querySelector('#df-967b059c-bfb1-4b5d-8540-6f3835291cd5');\n",
              "          const dataTable =\n",
              "            await google.colab.kernel.invokeFunction('convertToInteractive',\n",
              "                                                     [key], {});\n",
              "          if (!dataTable) return;\n",
              "\n",
              "          const docLinkHtml = 'Like what you see? Visit the ' +\n",
              "            '<a target=\"_blank\" href=https://colab.research.google.com/notebooks/data_table.ipynb>data table notebook</a>'\n",
              "            + ' to learn more about interactive tables.';\n",
              "          element.innerHTML = '';\n",
              "          dataTable['output_type'] = 'display_data';\n",
              "          await google.colab.output.renderOutput(dataTable, element);\n",
              "          const docLink = document.createElement('div');\n",
              "          docLink.innerHTML = docLinkHtml;\n",
              "          element.appendChild(docLink);\n",
              "        }\n",
              "      </script>\n",
              "    </div>\n",
              "  </div>\n",
              "  "
            ],
            "text/plain": [
              "conversion      0     1  Total\n",
              "loan                          \n",
              "no          28706  3627  32333\n",
              "yes          5328   639   5967"
            ]
          },
          "metadata": {},
          "execution_count": 175
        }
      ],
      "source": [
        "conversion_by_loan= pd.pivot_table(df_0,values='y',index='loan',columns='conversion',aggfunc=len)\n",
        "conversion_by_loan['Total'] = conversion_by_loan.sum(axis=1)\n",
        "conversion_by_loan"
      ],
      "id": "RAZXX3UABAWY"
    },
    {
      "cell_type": "code",
      "execution_count": 176,
      "metadata": {
        "id": "1EZrnmp7Rj5K",
        "colab": {
          "base_uri": "https://localhost:8080/",
          "height": 428
        },
        "outputId": "950463c7-ab59-423f-bf70-1709bbea9e91"
      },
      "outputs": [
        {
          "output_type": "display_data",
          "data": {
            "image/png": "[encoded data removed]",
            "text/plain": [
              "<Figure size 720x504 with 1 Axes>"
            ]
          },
          "metadata": {}
        }
      ],
      "source": [
        "conversion_by_loan = conversion_by_loan[[1,0]]\n",
        "ax = conversion_by_loan.div(conversion_by_loan\\\n",
        "                                .sum(axis=1),axis=0).plot(kind='barh',stacked=True,figsize=[10,7],color=['green','yellow'])\n",
        "ax.get_legend().remove()####remove the legend. We can you also ax.get_legend().set_visible(False)\n",
        "plt.vlines(0.1127,-0.7,len(conversion_by_loan),color='grey')\n",
        "for p in ax.patches:\n",
        "    width, height = p.get_width(), p.get_height()\n",
        "    x, y = p.get_xy()\n",
        "    ax.annotate('{:.1%}'.format(width),(x+0.05,y+0.05))"
      ],
      "id": "1EZrnmp7Rj5K"
    },
    {
      "cell_type": "markdown",
      "source": [
        "Is conversion rate higher in the group having loan?\n",
        "\n",
        "We can see that the conversion on 'yes' in the group having loan is approximately similar to the opposite. So the answer is: No, the conversion rate is not higher in the group having loan."
      ],
      "metadata": {
        "id": "1yNapg6xRrm1"
      },
      "id": "1yNapg6xRrm1"
    },
    {
      "cell_type": "code",
      "source": [
        "loan_housing = df_0.groupby(['loan','housing'])['conversion'].count().unstack()"
      ],
      "metadata": {
        "id": "ufIn1O9mtOq-"
      },
      "id": "ufIn1O9mtOq-",
      "execution_count": 177,
      "outputs": []
    },
    {
      "cell_type": "code",
      "source": [
        "loan_housing"
      ],
      "metadata": {
        "colab": {
          "base_uri": "https://localhost:8080/",
          "height": 143
        },
        "id": "fomg1lynttzR",
        "outputId": "87fc7906-f755-4cce-bde6-033a5f20d911"
      },
      "id": "fomg1lynttzR",
      "execution_count": 178,
      "outputs": [
        {
          "output_type": "execute_result",
          "data": {
            "text/html": [
              "\n",
              "  <div id=\"df-7705df91-0155-4c47-9daf-6115653dac50\">\n",
              "    <div class=\"colab-df-container\">\n",
              "      <div>\n",
              "<style scoped>\n",
              "    .dataframe tbody tr th:only-of-type {\n",
              "        vertical-align: middle;\n",
              "    }\n",
              "\n",
              "    .dataframe tbody tr th {\n",
              "        vertical-align: top;\n",
              "    }\n",
              "\n",
              "    .dataframe thead th {\n",
              "        text-align: right;\n",
              "    }\n",
              "</style>\n",
              "<table border=\"1\" class=\"dataframe\">\n",
              "  <thead>\n",
              "    <tr style=\"text-align: right;\">\n",
              "      <th>housing</th>\n",
              "      <th>no</th>\n",
              "      <th>yes</th>\n",
              "    </tr>\n",
              "    <tr>\n",
              "      <th>loan</th>\n",
              "      <th></th>\n",
              "      <th></th>\n",
              "    </tr>\n",
              "  </thead>\n",
              "  <tbody>\n",
              "    <tr>\n",
              "      <th>no</th>\n",
              "      <td>15257</td>\n",
              "      <td>17076</td>\n",
              "    </tr>\n",
              "    <tr>\n",
              "      <th>yes</th>\n",
              "      <td>2443</td>\n",
              "      <td>3524</td>\n",
              "    </tr>\n",
              "  </tbody>\n",
              "</table>\n",
              "</div>\n",
              "      <button class=\"colab-df-convert\" onclick=\"convertToInteractive('df-7705df91-0155-4c47-9daf-6115653dac50')\"\n",
              "              title=\"Convert this dataframe to an interactive table.\"\n",
              "              style=\"display:none;\">\n",
              "        \n",
              "  <svg xmlns=\"http://www.w3.org/2000/svg\" height=\"24px\"viewBox=\"0 0 24 24\"\n",
              "       width=\"24px\">\n",
              "    <path d=\"M0 0h24v24H0V0z\" fill=\"none\"/>\n",
              "    <path d=\"M18.56 5.44l.94 2.06.94-2.06 2.06-.94-2.06-.94-.94-2.06-.94 2.06-2.06.94zm-11 1L8.5 8.5l.94-2.06 2.06-.94-2.06-.94L8.5 2.5l-.94 2.06-2.06.94zm10 10l.94 2.06.94-2.06 2.06-.94-2.06-.94-.94-2.06-.94 2.06-2.06.94z\"/><path d=\"M17.41 7.96l-1.37-1.37c-.4-.4-.92-.59-1.43-.59-.52 0-1.04.2-1.43.59L10.3 9.45l-7.72 7.72c-.78.78-.78 2.05 0 2.83L4 21.41c.39.39.9.59 1.41.59.51 0 1.02-.2 1.41-.59l7.78-7.78 2.81-2.81c.8-.78.8-2.07 0-2.86zM5.41 20L4 18.59l7.72-7.72 1.47 1.35L5.41 20z\"/>\n",
              "  </svg>\n",
              "      </button>\n",
              "      \n",
              "  <style>\n",
              "    .colab-df-container {\n",
              "      display:flex;\n",
              "      flex-wrap:wrap;\n",
              "      gap: 12px;\n",
              "    }\n",
              "\n",
              "    .colab-df-convert {\n",
              "      background-color: #E8F0FE;\n",
              "      border: none;\n",
              "      border-radius: 50%;\n",
              "      cursor: pointer;\n",
              "      display: none;\n",
              "      fill: #1967D2;\n",
              "      height: 32px;\n",
              "      padding: 0 0 0 0;\n",
              "      width: 32px;\n",
              "    }\n",
              "\n",
              "    .colab-df-convert:hover {\n",
              "      background-color: #E2EBFA;\n",
              "      box-shadow: 0px 1px 2px rgba(60, 64, 67, 0.3), 0px 1px 3px 1px rgba(60, 64, 67, 0.15);\n",
              "      fill: #174EA6;\n",
              "    }\n",
              "\n",
              "    [theme=dark] .colab-df-convert {\n",
              "      background-color: #3B4455;\n",
              "      fill: #D2E3FC;\n",
              "    }\n",
              "\n",
              "    [theme=dark] .colab-df-convert:hover {\n",
              "      background-color: #434B5C;\n",
              "      box-shadow: 0px 1px 3px 1px rgba(0, 0, 0, 0.15);\n",
              "      filter: drop-shadow(0px 1px 2px rgba(0, 0, 0, 0.3));\n",
              "      fill: #FFFFFF;\n",
              "    }\n",
              "  </style>\n",
              "\n",
              "      <script>\n",
              "        const buttonEl =\n",
              "          document.querySelector('#df-7705df91-0155-4c47-9daf-6115653dac50 button.colab-df-convert');\n",
              "        buttonEl.style.display =\n",
              "          google.colab.kernel.accessAllowed ? 'block' : 'none';\n",
              "\n",
              "        async function convertToInteractive(key) {\n",
              "          const element = document.querySelector('#df-7705df91-0155-4c47-9daf-6115653dac50');\n",
              "          const dataTable =\n",
              "            await google.colab.kernel.invokeFunction('convertToInteractive',\n",
              "                                                     [key], {});\n",
              "          if (!dataTable) return;\n",
              "\n",
              "          const docLinkHtml = 'Like what you see? Visit the ' +\n",
              "            '<a target=\"_blank\" href=https://colab.research.google.com/notebooks/data_table.ipynb>data table notebook</a>'\n",
              "            + ' to learn more about interactive tables.';\n",
              "          element.innerHTML = '';\n",
              "          dataTable['output_type'] = 'display_data';\n",
              "          await google.colab.output.renderOutput(dataTable, element);\n",
              "          const docLink = document.createElement('div');\n",
              "          docLink.innerHTML = docLinkHtml;\n",
              "          element.appendChild(docLink);\n",
              "        }\n",
              "      </script>\n",
              "    </div>\n",
              "  </div>\n",
              "  "
            ],
            "text/plain": [
              "housing     no    yes\n",
              "loan                 \n",
              "no       15257  17076\n",
              "yes       2443   3524"
            ]
          },
          "metadata": {},
          "execution_count": 178
        }
      ]
    },
    {
      "cell_type": "code",
      "source": [
        "sns.countplot(x=\"housing\", hue=\"loan\", data=df_0);\n",
        "\n",
        "plt.show()"
      ],
      "metadata": {
        "colab": {
          "base_uri": "https://localhost:8080/",
          "height": 361
        },
        "id": "fQ-Mvocvwl_Z",
        "outputId": "798b033c-1c17-49b6-a9c1-3fac95f055f5"
      },
      "id": "fQ-Mvocvwl_Z",
      "execution_count": 179,
      "outputs": [
        {
          "output_type": "display_data",
          "data": {
            "image/png": "[encoded data removed]",
            "text/plain": [
              "<Figure size 576x396 with 1 Axes>"
            ]
          },
          "metadata": {}
        }
      ]
    },
    {
      "cell_type": "markdown",
      "metadata": {
        "id": "U6aaliTaS9Eu"
      },
      "source": [
        "# **Which day we should contact our customer**"
      ],
      "id": "U6aaliTaS9Eu"
    },
    {
      "cell_type": "code",
      "execution_count": 180,
      "metadata": {
        "id": "bU36Ap8a8MSL"
      },
      "outputs": [],
      "source": [
        "df[\"day_of_week\"]=df[\"day_of_week\"].replace([\"mon\",\"tue\",\"wed\",\"thu\",\"fri\"],['2','3','4','5','6'])"
      ],
      "id": "bU36Ap8a8MSL"
    },
    {
      "cell_type": "code",
      "execution_count": 181,
      "metadata": {
        "id": "PocasX7dS4pC",
        "colab": {
          "base_uri": "https://localhost:8080/",
          "height": 238
        },
        "outputId": "a43ed578-c3e6-4a57-b2eb-7e56d4002347"
      },
      "outputs": [
        {
          "output_type": "execute_result",
          "data": {
            "text/html": [
              "\n",
              "  <div id=\"df-c7c85360-7a7b-4c5c-9ecc-ec3104e4e22e\">\n",
              "    <div class=\"colab-df-container\">\n",
              "      <div>\n",
              "<style scoped>\n",
              "    .dataframe tbody tr th:only-of-type {\n",
              "        vertical-align: middle;\n",
              "    }\n",
              "\n",
              "    .dataframe tbody tr th {\n",
              "        vertical-align: top;\n",
              "    }\n",
              "\n",
              "    .dataframe thead th {\n",
              "        text-align: right;\n",
              "    }\n",
              "</style>\n",
              "<table border=\"1\" class=\"dataframe\">\n",
              "  <thead>\n",
              "    <tr style=\"text-align: right;\">\n",
              "      <th>conversion</th>\n",
              "      <th>0</th>\n",
              "      <th>1</th>\n",
              "    </tr>\n",
              "    <tr>\n",
              "      <th>day_of_week</th>\n",
              "      <th></th>\n",
              "      <th></th>\n",
              "    </tr>\n",
              "  </thead>\n",
              "  <tbody>\n",
              "    <tr>\n",
              "      <th>fri</th>\n",
              "      <td>6462</td>\n",
              "      <td>772</td>\n",
              "    </tr>\n",
              "    <tr>\n",
              "      <th>mon</th>\n",
              "      <td>7152</td>\n",
              "      <td>789</td>\n",
              "    </tr>\n",
              "    <tr>\n",
              "      <th>thu</th>\n",
              "      <td>7062</td>\n",
              "      <td>964</td>\n",
              "    </tr>\n",
              "    <tr>\n",
              "      <th>tue</th>\n",
              "      <td>6621</td>\n",
              "      <td>864</td>\n",
              "    </tr>\n",
              "    <tr>\n",
              "      <th>wed</th>\n",
              "      <td>6737</td>\n",
              "      <td>877</td>\n",
              "    </tr>\n",
              "  </tbody>\n",
              "</table>\n",
              "</div>\n",
              "      <button class=\"colab-df-convert\" onclick=\"convertToInteractive('df-c7c85360-7a7b-4c5c-9ecc-ec3104e4e22e')\"\n",
              "              title=\"Convert this dataframe to an interactive table.\"\n",
              "              style=\"display:none;\">\n",
              "        \n",
              "  <svg xmlns=\"http://www.w3.org/2000/svg\" height=\"24px\"viewBox=\"0 0 24 24\"\n",
              "       width=\"24px\">\n",
              "    <path d=\"M0 0h24v24H0V0z\" fill=\"none\"/>\n",
              "    <path d=\"M18.56 5.44l.94 2.06.94-2.06 2.06-.94-2.06-.94-.94-2.06-.94 2.06-2.06.94zm-11 1L8.5 8.5l.94-2.06 2.06-.94-2.06-.94L8.5 2.5l-.94 2.06-2.06.94zm10 10l.94 2.06.94-2.06 2.06-.94-2.06-.94-.94-2.06-.94 2.06-2.06.94z\"/><path d=\"M17.41 7.96l-1.37-1.37c-.4-.4-.92-.59-1.43-.59-.52 0-1.04.2-1.43.59L10.3 9.45l-7.72 7.72c-.78.78-.78 2.05 0 2.83L4 21.41c.39.39.9.59 1.41.59.51 0 1.02-.2 1.41-.59l7.78-7.78 2.81-2.81c.8-.78.8-2.07 0-2.86zM5.41 20L4 18.59l7.72-7.72 1.47 1.35L5.41 20z\"/>\n",
              "  </svg>\n",
              "      </button>\n",
              "      \n",
              "  <style>\n",
              "    .colab-df-container {\n",
              "      display:flex;\n",
              "      flex-wrap:wrap;\n",
              "      gap: 12px;\n",
              "    }\n",
              "\n",
              "    .colab-df-convert {\n",
              "      background-color: #E8F0FE;\n",
              "      border: none;\n",
              "      border-radius: 50%;\n",
              "      cursor: pointer;\n",
              "      display: none;\n",
              "      fill: #1967D2;\n",
              "      height: 32px;\n",
              "      padding: 0 0 0 0;\n",
              "      width: 32px;\n",
              "    }\n",
              "\n",
              "    .colab-df-convert:hover {\n",
              "      background-color: #E2EBFA;\n",
              "      box-shadow: 0px 1px 2px rgba(60, 64, 67, 0.3), 0px 1px 3px 1px rgba(60, 64, 67, 0.15);\n",
              "      fill: #174EA6;\n",
              "    }\n",
              "\n",
              "    [theme=dark] .colab-df-convert {\n",
              "      background-color: #3B4455;\n",
              "      fill: #D2E3FC;\n",
              "    }\n",
              "\n",
              "    [theme=dark] .colab-df-convert:hover {\n",
              "      background-color: #434B5C;\n",
              "      box-shadow: 0px 1px 3px 1px rgba(0, 0, 0, 0.15);\n",
              "      filter: drop-shadow(0px 1px 2px rgba(0, 0, 0, 0.3));\n",
              "      fill: #FFFFFF;\n",
              "    }\n",
              "  </style>\n",
              "\n",
              "      <script>\n",
              "        const buttonEl =\n",
              "          document.querySelector('#df-c7c85360-7a7b-4c5c-9ecc-ec3104e4e22e button.colab-df-convert');\n",
              "        buttonEl.style.display =\n",
              "          google.colab.kernel.accessAllowed ? 'block' : 'none';\n",
              "\n",
              "        async function convertToInteractive(key) {\n",
              "          const element = document.querySelector('#df-c7c85360-7a7b-4c5c-9ecc-ec3104e4e22e');\n",
              "          const dataTable =\n",
              "            await google.colab.kernel.invokeFunction('convertToInteractive',\n",
              "                                                     [key], {});\n",
              "          if (!dataTable) return;\n",
              "\n",
              "          const docLinkHtml = 'Like what you see? Visit the ' +\n",
              "            '<a target=\"_blank\" href=https://colab.research.google.com/notebooks/data_table.ipynb>data table notebook</a>'\n",
              "            + ' to learn more about interactive tables.';\n",
              "          element.innerHTML = '';\n",
              "          dataTable['output_type'] = 'display_data';\n",
              "          await google.colab.output.renderOutput(dataTable, element);\n",
              "          const docLink = document.createElement('div');\n",
              "          docLink.innerHTML = docLinkHtml;\n",
              "          element.appendChild(docLink);\n",
              "        }\n",
              "      </script>\n",
              "    </div>\n",
              "  </div>\n",
              "  "
            ],
            "text/plain": [
              "conversion      0    1\n",
              "day_of_week           \n",
              "fri          6462  772\n",
              "mon          7152  789\n",
              "thu          7062  964\n",
              "tue          6621  864\n",
              "wed          6737  877"
            ]
          },
          "metadata": {},
          "execution_count": 181
        }
      ],
      "source": [
        "days= pd.pivot_table(df_0,values='y',index='day_of_week',columns='conversion',aggfunc=len)\n",
        "days"
      ],
      "id": "PocasX7dS4pC"
    },
    {
      "cell_type": "code",
      "execution_count": 182,
      "metadata": {
        "id": "wPLHNCQZUT2w",
        "colab": {
          "base_uri": "https://localhost:8080/",
          "height": 378
        },
        "outputId": "725f3229-901e-4017-d1c5-7cc33526bc79"
      },
      "outputs": [
        {
          "output_type": "execute_result",
          "data": {
            "text/plain": [
              "<matplotlib.axes._subplots.AxesSubplot at 0x7fef1ed16550>"
            ]
          },
          "metadata": {},
          "execution_count": 182
        },
        {
          "output_type": "display_data",
          "data": {
            "image/png": "[encoded data removed]",
            "text/plain": [
              "<Figure size 576x396 with 1 Axes>"
            ]
          },
          "metadata": {}
        }
      ],
      "source": [
        "days.plot(kind='line')"
      ],
      "id": "wPLHNCQZUT2w"
    },
    {
      "cell_type": "code",
      "execution_count": 183,
      "metadata": {
        "id": "mkruQnpLZ1WM",
        "colab": {
          "base_uri": "https://localhost:8080/",
          "height": 428
        },
        "outputId": "0f932aa0-6904-4f9a-b76f-86d15127bf67"
      },
      "outputs": [
        {
          "output_type": "display_data",
          "data": {
            "image/png": "[encoded data removed]",
            "text/plain": [
              "<Figure size 720x504 with 1 Axes>"
            ]
          },
          "metadata": {}
        }
      ],
      "source": [
        "days= days[[1,0]]\n",
        "ax = days.div(days.sum(axis=1),axis=0).plot(kind='barh',stacked=True,figsize=[10,7],color=['green','yellow'])\n",
        "ax.get_legend().remove()####remove the legend. We can you also ax.get_legend().set_visible(False)\n",
        "plt.vlines(0.1127,-0.7,len(days),color='grey')\n",
        "for p in ax.patches:\n",
        "    width, height = p.get_width(), p.get_height()\n",
        "    x, y = p.get_xy()\n",
        "    ax.annotate('{:.1%}'.format(width),(x+0.05,y+0.05))"
      ],
      "id": "mkruQnpLZ1WM"
    },
    {
      "cell_type": "markdown",
      "source": [
        "Which day we should contact our customer?\n",
        "<br>\n",
        "-Những ngày trong tuần được liệt kê đều có tỷ lệ chuyển đổi không khác nhau một cách đáng kể. \n",
        "\n",
        "<br>\n",
        "Kết luận: \n",
        "<br>\n",
        "-Như ta có thể quan sát, tỷ lệ chuyển đổi 'yes' của những ngày trong tuần có mức xấp xỉ bằng nhau. Không có giá trị của ngày nào có thay đổi quá khác biệt so với những giá trị của những ngày còn lại. Nên có thể nói rằng ta có thể liên lạc với khách hàng bất kỳ ngày nào trong tuần vì nó không ảnh hưởng lớn đến quyết định mở tài khoản tiền gửi có kỳ hạn của họ.\n"
      ],
      "metadata": {
        "id": "xWSRcTcyToLr"
      },
      "id": "xWSRcTcyToLr"
    },
    {
      "cell_type": "markdown",
      "metadata": {
        "id": "d6pXYZiGdY3b"
      },
      "source": [
        "# **month**"
      ],
      "id": "d6pXYZiGdY3b"
    },
    {
      "cell_type": "code",
      "execution_count": 184,
      "metadata": {
        "id": "_d9gxFLFda0x",
        "colab": {
          "base_uri": "https://localhost:8080/",
          "height": 394
        },
        "outputId": "aa7e9f96-50a0-42ea-f500-b64d359de12d"
      },
      "outputs": [
        {
          "output_type": "execute_result",
          "data": {
            "text/html": [
              "\n",
              "  <div id=\"df-3106def4-8236-4a8c-b615-cbb91a4aeb7d\">\n",
              "    <div class=\"colab-df-container\">\n",
              "      <div>\n",
              "<style scoped>\n",
              "    .dataframe tbody tr th:only-of-type {\n",
              "        vertical-align: middle;\n",
              "    }\n",
              "\n",
              "    .dataframe tbody tr th {\n",
              "        vertical-align: top;\n",
              "    }\n",
              "\n",
              "    .dataframe thead th {\n",
              "        text-align: right;\n",
              "    }\n",
              "</style>\n",
              "<table border=\"1\" class=\"dataframe\">\n",
              "  <thead>\n",
              "    <tr style=\"text-align: right;\">\n",
              "      <th>conversion</th>\n",
              "      <th>0</th>\n",
              "      <th>1</th>\n",
              "    </tr>\n",
              "    <tr>\n",
              "      <th>month</th>\n",
              "      <th></th>\n",
              "      <th></th>\n",
              "    </tr>\n",
              "  </thead>\n",
              "  <tbody>\n",
              "    <tr>\n",
              "      <th>10</th>\n",
              "      <td>402</td>\n",
              "      <td>315</td>\n",
              "    </tr>\n",
              "    <tr>\n",
              "      <th>11</th>\n",
              "      <td>3684</td>\n",
              "      <td>416</td>\n",
              "    </tr>\n",
              "    <tr>\n",
              "      <th>12</th>\n",
              "      <td>93</td>\n",
              "      <td>89</td>\n",
              "    </tr>\n",
              "    <tr>\n",
              "      <th>3</th>\n",
              "      <td>270</td>\n",
              "      <td>276</td>\n",
              "    </tr>\n",
              "    <tr>\n",
              "      <th>4</th>\n",
              "      <td>2092</td>\n",
              "      <td>539</td>\n",
              "    </tr>\n",
              "    <tr>\n",
              "      <th>5</th>\n",
              "      <td>12881</td>\n",
              "      <td>886</td>\n",
              "    </tr>\n",
              "    <tr>\n",
              "      <th>6</th>\n",
              "      <td>4759</td>\n",
              "      <td>559</td>\n",
              "    </tr>\n",
              "    <tr>\n",
              "      <th>7</th>\n",
              "      <td>6521</td>\n",
              "      <td>648</td>\n",
              "    </tr>\n",
              "    <tr>\n",
              "      <th>8</th>\n",
              "      <td>5521</td>\n",
              "      <td>655</td>\n",
              "    </tr>\n",
              "    <tr>\n",
              "      <th>9</th>\n",
              "      <td>314</td>\n",
              "      <td>256</td>\n",
              "    </tr>\n",
              "  </tbody>\n",
              "</table>\n",
              "</div>\n",
              "      <button class=\"colab-df-convert\" onclick=\"convertToInteractive('df-3106def4-8236-4a8c-b615-cbb91a4aeb7d')\"\n",
              "              title=\"Convert this dataframe to an interactive table.\"\n",
              "              style=\"display:none;\">\n",
              "        \n",
              "  <svg xmlns=\"http://www.w3.org/2000/svg\" height=\"24px\"viewBox=\"0 0 24 24\"\n",
              "       width=\"24px\">\n",
              "    <path d=\"M0 0h24v24H0V0z\" fill=\"none\"/>\n",
              "    <path d=\"M18.56 5.44l.94 2.06.94-2.06 2.06-.94-2.06-.94-.94-2.06-.94 2.06-2.06.94zm-11 1L8.5 8.5l.94-2.06 2.06-.94-2.06-.94L8.5 2.5l-.94 2.06-2.06.94zm10 10l.94 2.06.94-2.06 2.06-.94-2.06-.94-.94-2.06-.94 2.06-2.06.94z\"/><path d=\"M17.41 7.96l-1.37-1.37c-.4-.4-.92-.59-1.43-.59-.52 0-1.04.2-1.43.59L10.3 9.45l-7.72 7.72c-.78.78-.78 2.05 0 2.83L4 21.41c.39.39.9.59 1.41.59.51 0 1.02-.2 1.41-.59l7.78-7.78 2.81-2.81c.8-.78.8-2.07 0-2.86zM5.41 20L4 18.59l7.72-7.72 1.47 1.35L5.41 20z\"/>\n",
              "  </svg>\n",
              "      </button>\n",
              "      \n",
              "  <style>\n",
              "    .colab-df-container {\n",
              "      display:flex;\n",
              "      flex-wrap:wrap;\n",
              "      gap: 12px;\n",
              "    }\n",
              "\n",
              "    .colab-df-convert {\n",
              "      background-color: #E8F0FE;\n",
              "      border: none;\n",
              "      border-radius: 50%;\n",
              "      cursor: pointer;\n",
              "      display: none;\n",
              "      fill: #1967D2;\n",
              "      height: 32px;\n",
              "      padding: 0 0 0 0;\n",
              "      width: 32px;\n",
              "    }\n",
              "\n",
              "    .colab-df-convert:hover {\n",
              "      background-color: #E2EBFA;\n",
              "      box-shadow: 0px 1px 2px rgba(60, 64, 67, 0.3), 0px 1px 3px 1px rgba(60, 64, 67, 0.15);\n",
              "      fill: #174EA6;\n",
              "    }\n",
              "\n",
              "    [theme=dark] .colab-df-convert {\n",
              "      background-color: #3B4455;\n",
              "      fill: #D2E3FC;\n",
              "    }\n",
              "\n",
              "    [theme=dark] .colab-df-convert:hover {\n",
              "      background-color: #434B5C;\n",
              "      box-shadow: 0px 1px 3px 1px rgba(0, 0, 0, 0.15);\n",
              "      filter: drop-shadow(0px 1px 2px rgba(0, 0, 0, 0.3));\n",
              "      fill: #FFFFFF;\n",
              "    }\n",
              "  </style>\n",
              "\n",
              "      <script>\n",
              "        const buttonEl =\n",
              "          document.querySelector('#df-3106def4-8236-4a8c-b615-cbb91a4aeb7d button.colab-df-convert');\n",
              "        buttonEl.style.display =\n",
              "          google.colab.kernel.accessAllowed ? 'block' : 'none';\n",
              "\n",
              "        async function convertToInteractive(key) {\n",
              "          const element = document.querySelector('#df-3106def4-8236-4a8c-b615-cbb91a4aeb7d');\n",
              "          const dataTable =\n",
              "            await google.colab.kernel.invokeFunction('convertToInteractive',\n",
              "                                                     [key], {});\n",
              "          if (!dataTable) return;\n",
              "\n",
              "          const docLinkHtml = 'Like what you see? Visit the ' +\n",
              "            '<a target=\"_blank\" href=https://colab.research.google.com/notebooks/data_table.ipynb>data table notebook</a>'\n",
              "            + ' to learn more about interactive tables.';\n",
              "          element.innerHTML = '';\n",
              "          dataTable['output_type'] = 'display_data';\n",
              "          await google.colab.output.renderOutput(dataTable, element);\n",
              "          const docLink = document.createElement('div');\n",
              "          docLink.innerHTML = docLinkHtml;\n",
              "          element.appendChild(docLink);\n",
              "        }\n",
              "      </script>\n",
              "    </div>\n",
              "  </div>\n",
              "  "
            ],
            "text/plain": [
              "conversion      0    1\n",
              "month                 \n",
              "10            402  315\n",
              "11           3684  416\n",
              "12             93   89\n",
              "3             270  276\n",
              "4            2092  539\n",
              "5           12881  886\n",
              "6            4759  559\n",
              "7            6521  648\n",
              "8            5521  655\n",
              "9             314  256"
            ]
          },
          "metadata": {},
          "execution_count": 184
        }
      ],
      "source": [
        "df[\"month\"]=df[\"month\"].replace([\"mar\",\"apr\",\"may\",\"jun\",\"jul\",\"aug\",\"sep\",\"oct\",\"nov\",\"dec\"],['3','4','5','6','7','8','9','10','11','12'])\n",
        "months= pd.pivot_table(df,values='y',index='month',columns='conversion',aggfunc=len)\n",
        "#months['Total'] = months.sum(axis=1)\n",
        "months.sort_index()"
      ],
      "id": "_d9gxFLFda0x"
    },
    {
      "cell_type": "code",
      "execution_count": 185,
      "metadata": {
        "id": "EI8IxEUrQBDQ",
        "colab": {
          "base_uri": "https://localhost:8080/",
          "height": 378
        },
        "outputId": "de39b984-22c4-4e29-a69a-0bb4191c6f69"
      },
      "outputs": [
        {
          "output_type": "execute_result",
          "data": {
            "text/plain": [
              "<matplotlib.axes._subplots.AxesSubplot at 0x7fef1ea67250>"
            ]
          },
          "metadata": {},
          "execution_count": 185
        },
        {
          "output_type": "display_data",
          "data": {
            "image/png": "[encoded data removed]",
            "text/plain": [
              "<Figure size 576x396 with 1 Axes>"
            ]
          },
          "metadata": {}
        }
      ],
      "source": [
        "months.plot(kind='line')"
      ],
      "id": "EI8IxEUrQBDQ"
    },
    {
      "cell_type": "code",
      "execution_count": 186,
      "metadata": {
        "id": "ytsZVeXKdoW9",
        "colab": {
          "base_uri": "https://localhost:8080/",
          "height": 428
        },
        "outputId": "885953d2-6e00-4975-9790-9f4532be5844"
      },
      "outputs": [
        {
          "output_type": "display_data",
          "data": {
            "image/png": "[encoded data removed]",
            "text/plain": [
              "<Figure size 720x504 with 1 Axes>"
            ]
          },
          "metadata": {}
        }
      ],
      "source": [
        "months= months[[1,0]]\n",
        "ax = months.div(months.sum(axis=1),axis=0).plot(kind='barh',stacked=True,figsize=[10,7],color=['green','yellow'])\n",
        "ax.get_legend().remove()####remove the legend. We can you also ax.get_legend().set_visible(False)\n",
        "plt.vlines(0.1127,-0.7,len(days),color='grey')\n",
        "for p in ax.patches:\n",
        "    width, height = p.get_width(), p.get_height()\n",
        "    x, y = p.get_xy()\n",
        "    ax.annotate('{:.1%}'.format(width),(x+0.05,y+0.05))"
      ],
      "id": "ytsZVeXKdoW9"
    },
    {
      "cell_type": "markdown",
      "source": [
        "Insight:\n",
        "<br>\n",
        "-Tháng có tỷ lệ chuyển đổi cao: 3, 9, 10, 12\n",
        "<br>\n",
        "-Tháng có tỷ lệ chuyển đổi thấp: 4, 5, 6, 7, 8, 11\n",
        "<br>\n",
        "-Tháng có tỷ lệ chuyển đổi cao thì có tỷ lệ chuyển đổi 'yes' so với 'no' xấp xỉ bằng nhau\n",
        "<br>\n",
        "<br>\n",
        "Ứng dụng:\n",
        "<br>\n",
        "-Ta cần tập trung cải thiện vào những tháng có tỷ lệ chuyển đổi thấp. Và nên liên lạc với khách hàng vào những tháng có tỷ lệ chuyển đổi cao."
      ],
      "metadata": {
        "id": "LLcnVNcWVtzi"
      },
      "id": "LLcnVNcWVtzi"
    },
    {
      "cell_type": "markdown",
      "metadata": {
        "id": "a1DeWJNad3AH"
      },
      "source": [
        "# **Contact**"
      ],
      "id": "a1DeWJNad3AH"
    },
    {
      "cell_type": "code",
      "execution_count": 187,
      "metadata": {
        "id": "KnrzI3Kmd9i5",
        "colab": {
          "base_uri": "https://localhost:8080/",
          "height": 143
        },
        "outputId": "801ca060-d1eb-4589-be23-9a1a7137e16d"
      },
      "outputs": [
        {
          "output_type": "execute_result",
          "data": {
            "text/html": [
              "\n",
              "  <div id=\"df-a1a28001-998b-4ee4-ad14-e44da210893f\">\n",
              "    <div class=\"colab-df-container\">\n",
              "      <div>\n",
              "<style scoped>\n",
              "    .dataframe tbody tr th:only-of-type {\n",
              "        vertical-align: middle;\n",
              "    }\n",
              "\n",
              "    .dataframe tbody tr th {\n",
              "        vertical-align: top;\n",
              "    }\n",
              "\n",
              "    .dataframe thead th {\n",
              "        text-align: right;\n",
              "    }\n",
              "</style>\n",
              "<table border=\"1\" class=\"dataframe\">\n",
              "  <thead>\n",
              "    <tr style=\"text-align: right;\">\n",
              "      <th>conversion</th>\n",
              "      <th>0</th>\n",
              "      <th>1</th>\n",
              "      <th>Total</th>\n",
              "    </tr>\n",
              "    <tr>\n",
              "      <th>contact</th>\n",
              "      <th></th>\n",
              "      <th></th>\n",
              "      <th></th>\n",
              "    </tr>\n",
              "  </thead>\n",
              "  <tbody>\n",
              "    <tr>\n",
              "      <th>cellular</th>\n",
              "      <td>22283</td>\n",
              "      <td>3852</td>\n",
              "      <td>26135</td>\n",
              "    </tr>\n",
              "    <tr>\n",
              "      <th>telephone</th>\n",
              "      <td>14254</td>\n",
              "      <td>787</td>\n",
              "      <td>15041</td>\n",
              "    </tr>\n",
              "  </tbody>\n",
              "</table>\n",
              "</div>\n",
              "      <button class=\"colab-df-convert\" onclick=\"convertToInteractive('df-a1a28001-998b-4ee4-ad14-e44da210893f')\"\n",
              "              title=\"Convert this dataframe to an interactive table.\"\n",
              "              style=\"display:none;\">\n",
              "        \n",
              "  <svg xmlns=\"http://www.w3.org/2000/svg\" height=\"24px\"viewBox=\"0 0 24 24\"\n",
              "       width=\"24px\">\n",
              "    <path d=\"M0 0h24v24H0V0z\" fill=\"none\"/>\n",
              "    <path d=\"M18.56 5.44l.94 2.06.94-2.06 2.06-.94-2.06-.94-.94-2.06-.94 2.06-2.06.94zm-11 1L8.5 8.5l.94-2.06 2.06-.94-2.06-.94L8.5 2.5l-.94 2.06-2.06.94zm10 10l.94 2.06.94-2.06 2.06-.94-2.06-.94-.94-2.06-.94 2.06-2.06.94z\"/><path d=\"M17.41 7.96l-1.37-1.37c-.4-.4-.92-.59-1.43-.59-.52 0-1.04.2-1.43.59L10.3 9.45l-7.72 7.72c-.78.78-.78 2.05 0 2.83L4 21.41c.39.39.9.59 1.41.59.51 0 1.02-.2 1.41-.59l7.78-7.78 2.81-2.81c.8-.78.8-2.07 0-2.86zM5.41 20L4 18.59l7.72-7.72 1.47 1.35L5.41 20z\"/>\n",
              "  </svg>\n",
              "      </button>\n",
              "      \n",
              "  <style>\n",
              "    .colab-df-container {\n",
              "      display:flex;\n",
              "      flex-wrap:wrap;\n",
              "      gap: 12px;\n",
              "    }\n",
              "\n",
              "    .colab-df-convert {\n",
              "      background-color: #E8F0FE;\n",
              "      border: none;\n",
              "      border-radius: 50%;\n",
              "      cursor: pointer;\n",
              "      display: none;\n",
              "      fill: #1967D2;\n",
              "      height: 32px;\n",
              "      padding: 0 0 0 0;\n",
              "      width: 32px;\n",
              "    }\n",
              "\n",
              "    .colab-df-convert:hover {\n",
              "      background-color: #E2EBFA;\n",
              "      box-shadow: 0px 1px 2px rgba(60, 64, 67, 0.3), 0px 1px 3px 1px rgba(60, 64, 67, 0.15);\n",
              "      fill: #174EA6;\n",
              "    }\n",
              "\n",
              "    [theme=dark] .colab-df-convert {\n",
              "      background-color: #3B4455;\n",
              "      fill: #D2E3FC;\n",
              "    }\n",
              "\n",
              "    [theme=dark] .colab-df-convert:hover {\n",
              "      background-color: #434B5C;\n",
              "      box-shadow: 0px 1px 3px 1px rgba(0, 0, 0, 0.15);\n",
              "      filter: drop-shadow(0px 1px 2px rgba(0, 0, 0, 0.3));\n",
              "      fill: #FFFFFF;\n",
              "    }\n",
              "  </style>\n",
              "\n",
              "      <script>\n",
              "        const buttonEl =\n",
              "          document.querySelector('#df-a1a28001-998b-4ee4-ad14-e44da210893f button.colab-df-convert');\n",
              "        buttonEl.style.display =\n",
              "          google.colab.kernel.accessAllowed ? 'block' : 'none';\n",
              "\n",
              "        async function convertToInteractive(key) {\n",
              "          const element = document.querySelector('#df-a1a28001-998b-4ee4-ad14-e44da210893f');\n",
              "          const dataTable =\n",
              "            await google.colab.kernel.invokeFunction('convertToInteractive',\n",
              "                                                     [key], {});\n",
              "          if (!dataTable) return;\n",
              "\n",
              "          const docLinkHtml = 'Like what you see? Visit the ' +\n",
              "            '<a target=\"_blank\" href=https://colab.research.google.com/notebooks/data_table.ipynb>data table notebook</a>'\n",
              "            + ' to learn more about interactive tables.';\n",
              "          element.innerHTML = '';\n",
              "          dataTable['output_type'] = 'display_data';\n",
              "          await google.colab.output.renderOutput(dataTable, element);\n",
              "          const docLink = document.createElement('div');\n",
              "          docLink.innerHTML = docLinkHtml;\n",
              "          element.appendChild(docLink);\n",
              "        }\n",
              "      </script>\n",
              "    </div>\n",
              "  </div>\n",
              "  "
            ],
            "text/plain": [
              "conversion      0     1  Total\n",
              "contact                       \n",
              "cellular    22283  3852  26135\n",
              "telephone   14254   787  15041"
            ]
          },
          "metadata": {},
          "execution_count": 187
        }
      ],
      "source": [
        "contact= pd.pivot_table(df,values='y',index='contact',columns='conversion',aggfunc=len)\n",
        "contact['Total'] = contact.sum(axis=1)\n",
        "contact"
      ],
      "id": "KnrzI3Kmd9i5"
    },
    {
      "cell_type": "code",
      "execution_count": 188,
      "metadata": {
        "id": "gkjqPPHZeJ3J",
        "colab": {
          "base_uri": "https://localhost:8080/",
          "height": 428
        },
        "outputId": "9d92eec6-449a-4fc9-a2e9-5ee388dee3b2"
      },
      "outputs": [
        {
          "output_type": "display_data",
          "data": {
            "image/png": "[encoded data removed]",
            "text/plain": [
              "<Figure size 720x504 with 1 Axes>"
            ]
          },
          "metadata": {}
        }
      ],
      "source": [
        "contact= contact[[1,0]]\n",
        "ax = contact.div(contact.sum(axis=1),axis=0).plot(kind='barh',stacked=True,figsize=[10,7],color=['green','yellow'])\n",
        "ax.get_legend().remove()####remove the legend. We can you also ax.get_legend().set_visible(False)\n",
        "plt.vlines(0.1127,-0.7,len(days),color='grey')\n",
        "for p in ax.patches:\n",
        "    width, height = p.get_width(), p.get_height()\n",
        "    x, y = p.get_xy()\n",
        "    ax.annotate('{:.1%}'.format(width),(x+0.05,y+0.05))"
      ],
      "id": "gkjqPPHZeJ3J"
    },
    {
      "cell_type": "markdown",
      "source": [
        "Nhận xét: Theo như ta quan sát, cách liên lạc 'cellular' có tỷ lệ chuyển đổi cao gần gấp 3 so với telephone. Vì vậy rút ra được kết luận rằng: ta nên nên sử dụng cách liên lạc 'cellular'"
      ],
      "metadata": {
        "id": "L0hp4gcXV4qt"
      },
      "id": "L0hp4gcXV4qt"
    },
    {
      "cell_type": "markdown",
      "source": [
        "# **duration**"
      ],
      "metadata": {
        "id": "ZXvqyPH7V6sy"
      },
      "id": "ZXvqyPH7V6sy"
    },
    {
      "cell_type": "code",
      "source": [
        "import matplotlib.pyplot as plt\n",
        "import seaborn as sns\n",
        "plt.style.use('seaborn')\n",
        "\n",
        "sns.distplot(df['duration'],bins = 70, hist = True)\n",
        "plt.title(\"Histogram of duration\") \n",
        "plt.show()"
      ],
      "metadata": {
        "colab": {
          "base_uri": "https://localhost:8080/",
          "height": 466
        },
        "id": "r8UZ3n3Z6ieq",
        "outputId": "67143861-9ffb-42f3-9c3a-d028aaebedca"
      },
      "id": "r8UZ3n3Z6ieq",
      "execution_count": 189,
      "outputs": [
        {
          "output_type": "stream",
          "name": "stderr",
          "text": [
            "/usr/local/lib/python3.7/dist-packages/seaborn/distributions.py:2619: FutureWarning:\n",
            "\n",
            "`distplot` is a deprecated function and will be removed in a future version. Please adapt your code to use either `displot` (a figure-level function with similar flexibility) or `histplot` (an axes-level function for histograms).\n",
            "\n"
          ]
        },
        {
          "output_type": "display_data",
          "data": {
            "image/png": "[encoded data removed]",
            "text/plain": [
              "<Figure size 576x396 with 1 Axes>"
            ]
          },
          "metadata": {}
        }
      ]
    },
    {
      "cell_type": "code",
      "source": [
        "df['duration'].value_counts()\n"
      ],
      "metadata": {
        "colab": {
          "base_uri": "https://localhost:8080/"
        },
        "id": "AuNV27ja7ACL",
        "outputId": "c4004d5e-785f-43fd-8cdc-071050302c31"
      },
      "id": "AuNV27ja7ACL",
      "execution_count": 190,
      "outputs": [
        {
          "output_type": "execute_result",
          "data": {
            "text/plain": [
              "90      170\n",
              "85      170\n",
              "136     168\n",
              "73      167\n",
              "124     163\n",
              "       ... \n",
              "1569      1\n",
              "1053      1\n",
              "1263      1\n",
              "1169      1\n",
              "1868      1\n",
              "Name: duration, Length: 1544, dtype: int64"
            ]
          },
          "metadata": {},
          "execution_count": 190
        }
      ]
    },
    {
      "cell_type": "code",
      "source": [
        "df[df['duration'] > 1000].shape"
      ],
      "metadata": {
        "colab": {
          "base_uri": "https://localhost:8080/"
        },
        "id": "IK3ISE6F9XoY",
        "outputId": "77cf5927-706b-4b35-d846-96125690af43"
      },
      "id": "IK3ISE6F9XoY",
      "execution_count": 191,
      "outputs": [
        {
          "output_type": "execute_result",
          "data": {
            "text/plain": [
              "(956, 23)"
            ]
          },
          "metadata": {},
          "execution_count": 191
        }
      ]
    },
    {
      "cell_type": "code",
      "source": [
        "df_duration = df[df['duration'] < 1000]\n",
        "sns.distplot(df_duration['duration'],bins = 80, hist = True)\n",
        "plt.title(\"Histogram of duration\") \n",
        "plt.show()"
      ],
      "metadata": {
        "colab": {
          "base_uri": "https://localhost:8080/",
          "height": 466
        },
        "id": "UnXetA5Y9u2V",
        "outputId": "66491b89-f220-4799-cdfb-2dff702e3574"
      },
      "id": "UnXetA5Y9u2V",
      "execution_count": 192,
      "outputs": [
        {
          "output_type": "stream",
          "name": "stderr",
          "text": [
            "/usr/local/lib/python3.7/dist-packages/seaborn/distributions.py:2619: FutureWarning:\n",
            "\n",
            "`distplot` is a deprecated function and will be removed in a future version. Please adapt your code to use either `displot` (a figure-level function with similar flexibility) or `histplot` (an axes-level function for histograms).\n",
            "\n"
          ]
        },
        {
          "output_type": "display_data",
          "data": {
            "image/png": "[encoded data removed]",
            "text/plain": [
              "<Figure size 576x396 with 1 Axes>"
            ]
          },
          "metadata": {}
        }
      ]
    },
    {
      "cell_type": "code",
      "source": [
        "df[df['duration']>=df.duration.mean()].groupby('y')['duration'].count()"
      ],
      "metadata": {
        "colab": {
          "base_uri": "https://localhost:8080/"
        },
        "id": "jinmx2J-CXPa",
        "outputId": "948c7d66-f1f4-4b21-8f4d-19536749cdd1"
      },
      "id": "jinmx2J-CXPa",
      "execution_count": 193,
      "outputs": [
        {
          "output_type": "execute_result",
          "data": {
            "text/plain": [
              "y\n",
              "no     10222\n",
              "yes     3441\n",
              "Name: duration, dtype: int64"
            ]
          },
          "metadata": {},
          "execution_count": 193
        }
      ]
    },
    {
      "cell_type": "code",
      "source": [
        "df[df['duration']<df.duration.mean()].groupby('y')['duration'].count()"
      ],
      "metadata": {
        "colab": {
          "base_uri": "https://localhost:8080/"
        },
        "id": "8_vpSFEPCZZl",
        "outputId": "207e58b7-07e9-4c10-cf85-79a3adb33c92"
      },
      "id": "8_vpSFEPCZZl",
      "execution_count": 194,
      "outputs": [
        {
          "output_type": "execute_result",
          "data": {
            "text/plain": [
              "y\n",
              "no     26315\n",
              "yes     1198\n",
              "Name: duration, dtype: int64"
            ]
          },
          "metadata": {},
          "execution_count": 194
        }
      ]
    },
    {
      "cell_type": "code",
      "source": [
        "sns.set(rc={'figure.figsize':(10,6)})\n",
        "sns.set_style('whitegrid')\n",
        "avg_duration = df['duration'].mean()\n",
        "\n",
        "lst = [df]\n",
        "df[\"duration_status\"] = np.nan\n",
        "\n",
        "for col in lst:\n",
        "    col.loc[col[\"duration\"] < avg_duration, \"duration_status\"] = \"below_average\"\n",
        "    col.loc[col[\"duration\"] > avg_duration, \"duration_status\"] = \"above_average\"\n",
        "    \n",
        "pct_term = pd.crosstab(df['duration_status'], df['y']).apply(lambda r: round(r/r.sum(), 2) * 100, axis=1)\n",
        "\n",
        "\n",
        "ax = pct_term.plot(kind='bar', stacked=False, cmap='RdBu')\n",
        "plt.title(\"The Impact of Duration \\n in Opening a Term Deposit\", fontsize=12)\n",
        "plt.xlabel(\"Duration Status\", fontsize=18);\n",
        "plt.ylabel(\"Percentage (%)\", fontsize=18)\n",
        "\n",
        "for p in ax.patches:\n",
        "    ax.annotate(str(p.get_height()), (p.get_x() * 1.02, p.get_height() * 1.02))\n",
        "    \n",
        "\n",
        "plt.show()"
      ],
      "metadata": {
        "id": "0TjGaMYAV57h",
        "colab": {
          "base_uri": "https://localhost:8080/",
          "height": 508
        },
        "outputId": "b88e3f62-17ed-459c-b084-3960bfed9ede"
      },
      "id": "0TjGaMYAV57h",
      "execution_count": 195,
      "outputs": [
        {
          "output_type": "display_data",
          "data": {
            "image/png": "[encoded data removed]",
            "text/plain": [
              "<Figure size 720x432 with 1 Axes>"
            ]
          },
          "metadata": {}
        }
      ]
    },
    {
      "cell_type": "code",
      "source": [
        "avg_duration"
      ],
      "metadata": {
        "id": "RXpWyJRcWcCF",
        "colab": {
          "base_uri": "https://localhost:8080/"
        },
        "outputId": "400543e3-93bf-4b08-83fc-bd7e925bd955"
      },
      "id": "RXpWyJRcWcCF",
      "execution_count": 196,
      "outputs": [
        {
          "output_type": "execute_result",
          "data": {
            "text/plain": [
              "258.3158150378861"
            ]
          },
          "metadata": {},
          "execution_count": 196
        }
      ]
    },
    {
      "cell_type": "markdown",
      "source": [
        "Nhận xét: Khách hàng với thời gian gọi trên mức trung bình (>258s) thì sẽ có khả năng mở tài khoản tiền gửi có kỳ hạn cao hơn.\n",
        "<br>\n",
        "Ứng dụng: Tập trung vào tập khách hàng có thời gian gọi trên mức trung bình trong chiến dịch tiếp theo sẽ giúp chiến dịch có khả năng thành công cao hơn."
      ],
      "metadata": {
        "id": "UetoBmA8Winh"
      },
      "id": "UetoBmA8Winh"
    },
    {
      "cell_type": "code",
      "source": [
        ""
      ],
      "metadata": {
        "id": "2T3_jAnrA2Y4"
      },
      "id": "2T3_jAnrA2Y4",
      "execution_count": 196,
      "outputs": []
    }
  ],
  "metadata": {
    "colab": {
      "collapsed_sections": [
        "657b69c8"
      ],
      "name": "KPI Analysis. ipynb",
      "provenance": []
    },
    "kernelspec": {
      "display_name": "Python 3",
      "language": "python",
      "name": "python3"
    },
    "language_info": {
      "codemirror_mode": {
        "name": "ipython",
        "version": 3
      },
      "file_extension": ".py",
      "mimetype": "text/x-python",
      "name": "python",
      "nbconvert_exporter": "python",
      "pygments_lexer": "ipython3",
      "version": "3.8.8"
    }
  },
  "nbformat": 4,
  "nbformat_minor": 5
}